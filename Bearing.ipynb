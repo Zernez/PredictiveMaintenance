{
 "cells": [
  {
   "cell_type": "code",
   "execution_count": 3,
   "metadata": {},
   "outputs": [],
   "source": [
    "import numpy as np\n",
    "import pandas as pd\n",
    "import scipy.io as sio\n",
    "import os"
   ]
  },
  {
   "cell_type": "code",
   "execution_count": null,
   "metadata": {},
   "outputs": [],
   "source": [
    "# original site seems to be permantly offline, using cached data\n",
    "#!wget http://csegroups.case.edu/sites/default/files/bearingdatacenter/files/Datafiles/97.mat\n",
    "#!wget http://csegroups.case.edu/sites/default/files/bearingdatacenter/files/Datafiles/98.mat\n",
    "#!wget http://csegroups.case.edu/sites/default/files/bearingdatacenter/files/Datafiles/99.mat\n",
    "#!wget http://csegroups.case.edu/sites/default/files/bearingdatacenter/files/Datafiles/100.mat\n",
    "#!wget https://github.com/IBM/skillsnetwork/raw/master/coursera_ai/week3/data/cwr_healthy/97.mat\n",
    "#!wget https://github.com/IBM/skillsnetwork/raw/master/coursera_ai/week3/data/cwr_healthy/98.mat\n",
    "#!wget https://github.com/IBM/skillsnetwork/raw/master/coursera_ai/week3/data/cwr_healthy/99.mat\n",
    "#!wget https://github.com/IBM/skillsnetwork/raw/master/coursera_ai/week3/data/cwr_healthy/100.mat"
   ]
  },
  {
   "cell_type": "code",
   "execution_count": null,
   "metadata": {},
   "outputs": [],
   "source": [
    "!mkdir  cwr_healthy"
   ]
  },
  {
   "cell_type": "code",
   "execution_count": null,
   "metadata": {},
   "outputs": [],
   "source": [
    "!mv *.mat cwr_healthy/"
   ]
  },
  {
   "cell_type": "code",
   "execution_count": 4,
   "metadata": {},
   "outputs": [],
   "source": [
    "def read_folder(folder):\n",
    "    data = 'dummy'\n",
    "    skip = False\n",
    "    for file in os.listdir(folder):\n",
    "        file_id = file[:-4]\n",
    "        mat_file_dict = sio.loadmat(folder+file)\n",
    "        del data\n",
    "        for key, value in mat_file_dict.items():\n",
    "            if 'DE_time' in key or 'FE_time' in key:\n",
    "                a = np.array(mat_file_dict[key])\n",
    "                try:\n",
    "                    data\n",
    "                except NameError:\n",
    "                    data = a\n",
    "                else:\n",
    "                    if (data.shape[0] != a.shape[0]):\n",
    "                        print('skipping ' + file_id)\n",
    "                        skip = True\n",
    "                        continue\n",
    "                    data = np.hstack((data,a))\n",
    "        if skip:\n",
    "            skip=False\n",
    "            continue\n",
    "        id = np.repeat(file_id,data.shape[0])\n",
    "        id.shape = (id.shape[0],1)\n",
    "        data = np.hstack((id,data))\n",
    "        if data.shape[1] == 2:\n",
    "            zeros = np.repeat(float(0),data.shape[0])\n",
    "            zeros.shape =(data.shape[0],1)\n",
    "            data = np.hstack((data,zeros))\n",
    "        try:\n",
    "            result\n",
    "        except NameError:\n",
    "            result = data\n",
    "        else:\n",
    "            result = np.vstack((result,data))\n",
    "    return result"
   ]
  },
  {
   "cell_type": "code",
   "execution_count": 5,
   "metadata": {},
   "outputs": [],
   "source": [
    "result_healthy = read_folder('./cwr_healtcazz/')"
   ]
  },
  {
   "cell_type": "code",
   "execution_count": 6,
   "metadata": {},
   "outputs": [],
   "source": [
    "pdf = pd.DataFrame(result_healthy)"
   ]
  },
  {
   "cell_type": "code",
   "execution_count": 7,
   "metadata": {},
   "outputs": [],
   "source": [
    "pdf.to_csv('result_healthy_pandas.csv', header=False, index=True)"
   ]
  },
  {
   "cell_type": "code",
   "execution_count": null,
   "metadata": {},
   "outputs": [],
   "source": [
    "# uncommented because way too much data\n",
    "#!for url in `curl -s csegroups.case.edu/bearingdatacenter/pages/12k-drive-end-bearing-fault-data |grep mat |grep http |awk -F'href=\"' '{print $2}' |awk -F'\">' '{print $1}'`; do wget $url; done\n",
    "#!for url in `curl -s csegroups.case.edu/bearingdatacenter/pages/48k-drive-end-bearing-fault-data |grep mat |grep http |awk -F'href=\"' '{print $2}' |awk -F'\">' '{print $1}'`; do wget $url; done\n",
    "#!for url in `curl -s csegroups.case.edu/bearingdatacenter/pages/12k-fan-end-bearing-fault-data |grep mat |grep http |awk -F'href=\"' '{print $2}' |awk -F'\">' '{print $1}'`; do wget $url; done\n",
    "#!mkdir cwr_faulty\n",
    "#!mv *.mat cwr_faulty/"
   ]
  },
  {
   "cell_type": "code",
   "execution_count": null,
   "metadata": {},
   "outputs": [],
   "source": [
    "# original site seems to be permantly offline, using cached data\n",
    "# !wget http://csegroups.case.edu/sites/default/files/bearingdatacenter/files/Datafiles/105.mat\n",
    "# !wget http://csegroups.case.edu/sites/default/files/bearingdatacenter/files/Datafiles/106.mat\n",
    "# !wget http://csegroups.case.edu/sites/default/files/bearingdatacenter/files/Datafiles/107.mat\n",
    "# !wget http://csegroups.case.edu/sites/default/files/bearingdatacenter/files/Datafiles/108.mat\n",
    "#!wget https://github.com/IBM/skillsnetwork/raw/master/coursera_ai/week3/data/cwr_faulty/105.mat\n",
    "#!wget https://github.com/IBM/skillsnetwork/raw/master/coursera_ai/week3/data/cwr_faulty/106.mat\n",
    "#!wget https://github.com/IBM/skillsnetwork/raw/master/coursera_ai/week3/data/cwr_faulty/107.mat\n",
    "!wget https://github.com/IBM/skillsnetwork/raw/master/coursera_ai/week3/data/cwr_faulty/108.mat"
   ]
  },
  {
   "cell_type": "code",
   "execution_count": null,
   "metadata": {},
   "outputs": [],
   "source": [
    "!mkdir cwr_faulty\n",
    "!mv *.mat cwr_faulty/"
   ]
  },
  {
   "cell_type": "code",
   "execution_count": null,
   "metadata": {},
   "outputs": [],
   "source": [
    "!ls cwr_faulty/"
   ]
  },
  {
   "cell_type": "code",
   "execution_count": 8,
   "metadata": {},
   "outputs": [],
   "source": [
    "result_faulty = read_folder('./cwr_faulty/')"
   ]
  },
  {
   "cell_type": "code",
   "execution_count": 9,
   "metadata": {},
   "outputs": [],
   "source": [
    "pdf = pd.DataFrame(result_faulty)"
   ]
  },
  {
   "cell_type": "code",
   "execution_count": 10,
   "metadata": {},
   "outputs": [],
   "source": [
    "pdf.to_csv('result_faulty_pandas.csv', header=False, index=True)"
   ]
  },
  {
   "cell_type": "code",
   "execution_count": 10,
   "metadata": {},
   "outputs": [],
   "source": [
    "import base64\n",
    "from ibm_botocore.client import Config\n",
    "import ibm_boto3\n",
    "import time\n",
    "\n",
    "# In order to obtain the correct values for \"credentias\", \"bucket_name\" and \"endpoint\" \n",
    "# please follow the tutorial at https://github.com/IBM/skillsnetwork/wiki/Cloud-Object-Storage-Setup\n",
    "\n",
    "credentials = {\n",
    "  \"apikey\": \"ctAtCPLp9elDJZUjPZEPCJxN-V6MuMgACGJuVJOg2UJu\",\n",
    "  \"cos_hmac_keys\": {\n",
    "    \"access_key_id\": \"6c2bbc3e12744d9788291e424e909bc9\",\n",
    "    \"secret_access_key\": \"6b1615944c9fbd5718aaac9261e5de5c1d6f67245ea694aa\"\n",
    "  },\n",
    "  \"endpoints\": \"https://control.cloud-object-storage.cloud.ibm.com/v2/endpoints\",\n",
    "  \"iam_apikey_description\": \"Auto-generated for key 6c2bbc3e-1274-4d97-8829-1e424e909bc9\",\n",
    "  \"iam_apikey_name\": \"ApacheSpark\",\n",
    "  \"iam_role_crn\": \"crn:v1:bluemix:public:iam::::serviceRole:Writer\",\n",
    "  \"iam_serviceid_crn\": \"crn:v1:bluemix:public:iam-identity::a/a5c7062ccd8a4ac39ef2b6df4fa698a1::serviceid:ServiceId-7c114795-028e-4aad-9f3c-9f4cead09be0\",\n",
    "  \"resource_instance_id\": \"crn:v1:bluemix:public:cloud-object-storage:global:a/a5c7062ccd8a4ac39ef2b6df4fa698a1:9872889b-e7cf-4d41-ae4c-f50e39bcae6d::\"\n",
    "}\n",
    "\n",
    "\n",
    "bucket_name = 'apachesparkferna'\n",
    "endpoint = 'https://control.cloud-object-storage.cloud.ibm.com/v2/endpoints'"
   ]
  },
  {
   "cell_type": "code",
   "execution_count": 11,
   "metadata": {},
   "outputs": [
    {
     "ename": "S3UploadFailedError",
     "evalue": "Failed to upload result_healthy_pandas.csv to apachesparkferna/result_healthy_pandas.csv: An error occurred (404) when calling the CreateMultipartUpload operation: Not Found",
     "output_type": "error",
     "traceback": [
      "\u001b[1;31m---------------------------------------------------------------------------\u001b[0m",
      "\u001b[1;31mClientError\u001b[0m                               Traceback (most recent call last)",
      "\u001b[1;32mc:\\users\\user\\venv\\lib\\site-packages\\ibm_boto3\\s3\\transfer.py\u001b[0m in \u001b[0;36mupload_file\u001b[1;34m(self, filename, bucket, key, callback, extra_args)\u001b[0m\n\u001b[0;32m    278\u001b[0m         \u001b[1;32mtry\u001b[0m\u001b[1;33m:\u001b[0m\u001b[1;33m\u001b[0m\u001b[1;33m\u001b[0m\u001b[0m\n\u001b[1;32m--> 279\u001b[1;33m             \u001b[0mfuture\u001b[0m\u001b[1;33m.\u001b[0m\u001b[0mresult\u001b[0m\u001b[1;33m(\u001b[0m\u001b[1;33m)\u001b[0m\u001b[1;33m\u001b[0m\u001b[1;33m\u001b[0m\u001b[0m\n\u001b[0m\u001b[0;32m    280\u001b[0m         \u001b[1;31m# If a client error was raised, add the backwards compatibility layer\u001b[0m\u001b[1;33m\u001b[0m\u001b[1;33m\u001b[0m\u001b[1;33m\u001b[0m\u001b[0m\n",
      "\u001b[1;32mc:\\users\\user\\venv\\lib\\site-packages\\ibm_s3transfer\\futures.py\u001b[0m in \u001b[0;36mresult\u001b[1;34m(self)\u001b[0m\n\u001b[0;32m    105\u001b[0m             \u001b[1;31m# out of this and propogate the exception.\u001b[0m\u001b[1;33m\u001b[0m\u001b[1;33m\u001b[0m\u001b[1;33m\u001b[0m\u001b[0m\n\u001b[1;32m--> 106\u001b[1;33m             \u001b[1;32mreturn\u001b[0m \u001b[0mself\u001b[0m\u001b[1;33m.\u001b[0m\u001b[0m_coordinator\u001b[0m\u001b[1;33m.\u001b[0m\u001b[0mresult\u001b[0m\u001b[1;33m(\u001b[0m\u001b[1;33m)\u001b[0m\u001b[1;33m\u001b[0m\u001b[1;33m\u001b[0m\u001b[0m\n\u001b[0m\u001b[0;32m    107\u001b[0m         \u001b[1;32mexcept\u001b[0m \u001b[0mKeyboardInterrupt\u001b[0m \u001b[1;32mas\u001b[0m \u001b[0me\u001b[0m\u001b[1;33m:\u001b[0m\u001b[1;33m\u001b[0m\u001b[1;33m\u001b[0m\u001b[0m\n",
      "\u001b[1;32mc:\\users\\user\\venv\\lib\\site-packages\\ibm_s3transfer\\futures.py\u001b[0m in \u001b[0;36mresult\u001b[1;34m(self)\u001b[0m\n\u001b[0;32m    264\u001b[0m         \u001b[1;32mif\u001b[0m \u001b[0mself\u001b[0m\u001b[1;33m.\u001b[0m\u001b[0m_exception\u001b[0m\u001b[1;33m:\u001b[0m\u001b[1;33m\u001b[0m\u001b[1;33m\u001b[0m\u001b[0m\n\u001b[1;32m--> 265\u001b[1;33m             \u001b[1;32mraise\u001b[0m \u001b[0mself\u001b[0m\u001b[1;33m.\u001b[0m\u001b[0m_exception\u001b[0m\u001b[1;33m\u001b[0m\u001b[1;33m\u001b[0m\u001b[0m\n\u001b[0m\u001b[0;32m    266\u001b[0m         \u001b[1;32mreturn\u001b[0m \u001b[0mself\u001b[0m\u001b[1;33m.\u001b[0m\u001b[0m_result\u001b[0m\u001b[1;33m\u001b[0m\u001b[1;33m\u001b[0m\u001b[0m\n",
      "\u001b[1;32mc:\\users\\user\\venv\\lib\\site-packages\\ibm_s3transfer\\tasks.py\u001b[0m in \u001b[0;36m__call__\u001b[1;34m(self)\u001b[0m\n\u001b[0;32m    125\u001b[0m             \u001b[1;32mif\u001b[0m \u001b[1;32mnot\u001b[0m \u001b[0mself\u001b[0m\u001b[1;33m.\u001b[0m\u001b[0m_transfer_coordinator\u001b[0m\u001b[1;33m.\u001b[0m\u001b[0mdone\u001b[0m\u001b[1;33m(\u001b[0m\u001b[1;33m)\u001b[0m\u001b[1;33m:\u001b[0m\u001b[1;33m\u001b[0m\u001b[1;33m\u001b[0m\u001b[0m\n\u001b[1;32m--> 126\u001b[1;33m                 \u001b[1;32mreturn\u001b[0m \u001b[0mself\u001b[0m\u001b[1;33m.\u001b[0m\u001b[0m_execute_main\u001b[0m\u001b[1;33m(\u001b[0m\u001b[0mkwargs\u001b[0m\u001b[1;33m)\u001b[0m\u001b[1;33m\u001b[0m\u001b[1;33m\u001b[0m\u001b[0m\n\u001b[0m\u001b[0;32m    127\u001b[0m         \u001b[1;32mexcept\u001b[0m \u001b[0mException\u001b[0m \u001b[1;32mas\u001b[0m \u001b[0me\u001b[0m\u001b[1;33m:\u001b[0m\u001b[1;33m\u001b[0m\u001b[1;33m\u001b[0m\u001b[0m\n",
      "\u001b[1;32mc:\\users\\user\\venv\\lib\\site-packages\\ibm_s3transfer\\tasks.py\u001b[0m in \u001b[0;36m_execute_main\u001b[1;34m(self, kwargs)\u001b[0m\n\u001b[0;32m    149\u001b[0m \u001b[1;33m\u001b[0m\u001b[0m\n\u001b[1;32m--> 150\u001b[1;33m         \u001b[0mreturn_value\u001b[0m \u001b[1;33m=\u001b[0m \u001b[0mself\u001b[0m\u001b[1;33m.\u001b[0m\u001b[0m_main\u001b[0m\u001b[1;33m(\u001b[0m\u001b[1;33m**\u001b[0m\u001b[0mkwargs\u001b[0m\u001b[1;33m)\u001b[0m\u001b[1;33m\u001b[0m\u001b[1;33m\u001b[0m\u001b[0m\n\u001b[0m\u001b[0;32m    151\u001b[0m         \u001b[1;31m# If the task is the final task, then set the TransferFuture's\u001b[0m\u001b[1;33m\u001b[0m\u001b[1;33m\u001b[0m\u001b[1;33m\u001b[0m\u001b[0m\n",
      "\u001b[1;32mc:\\users\\user\\venv\\lib\\site-packages\\ibm_s3transfer\\tasks.py\u001b[0m in \u001b[0;36m_main\u001b[1;34m(self, client, bucket, key, extra_args)\u001b[0m\n\u001b[0;32m    331\u001b[0m         \u001b[1;31m# Create the multipart upload.\u001b[0m\u001b[1;33m\u001b[0m\u001b[1;33m\u001b[0m\u001b[1;33m\u001b[0m\u001b[0m\n\u001b[1;32m--> 332\u001b[1;33m         response = client.create_multipart_upload(\n\u001b[0m\u001b[0;32m    333\u001b[0m             Bucket=bucket, Key=key, **extra_args)\n",
      "\u001b[1;32mc:\\users\\user\\venv\\lib\\site-packages\\ibm_botocore\\client.py\u001b[0m in \u001b[0;36m_api_call\u001b[1;34m(self, *args, **kwargs)\u001b[0m\n\u001b[0;32m    315\u001b[0m             \u001b[1;31m# The \"self\" in this scope is referring to the BaseClient.\u001b[0m\u001b[1;33m\u001b[0m\u001b[1;33m\u001b[0m\u001b[1;33m\u001b[0m\u001b[0m\n\u001b[1;32m--> 316\u001b[1;33m             \u001b[1;32mreturn\u001b[0m \u001b[0mself\u001b[0m\u001b[1;33m.\u001b[0m\u001b[0m_make_api_call\u001b[0m\u001b[1;33m(\u001b[0m\u001b[0moperation_name\u001b[0m\u001b[1;33m,\u001b[0m \u001b[0mkwargs\u001b[0m\u001b[1;33m)\u001b[0m\u001b[1;33m\u001b[0m\u001b[1;33m\u001b[0m\u001b[0m\n\u001b[0m\u001b[0;32m    317\u001b[0m \u001b[1;33m\u001b[0m\u001b[0m\n",
      "\u001b[1;32mc:\\users\\user\\venv\\lib\\site-packages\\ibm_botocore\\client.py\u001b[0m in \u001b[0;36m_make_api_call\u001b[1;34m(self, operation_name, api_params)\u001b[0m\n\u001b[0;32m    625\u001b[0m             \u001b[0merror_class\u001b[0m \u001b[1;33m=\u001b[0m \u001b[0mself\u001b[0m\u001b[1;33m.\u001b[0m\u001b[0mexceptions\u001b[0m\u001b[1;33m.\u001b[0m\u001b[0mfrom_code\u001b[0m\u001b[1;33m(\u001b[0m\u001b[0merror_code\u001b[0m\u001b[1;33m)\u001b[0m\u001b[1;33m\u001b[0m\u001b[1;33m\u001b[0m\u001b[0m\n\u001b[1;32m--> 626\u001b[1;33m             \u001b[1;32mraise\u001b[0m \u001b[0merror_class\u001b[0m\u001b[1;33m(\u001b[0m\u001b[0mparsed_response\u001b[0m\u001b[1;33m,\u001b[0m \u001b[0moperation_name\u001b[0m\u001b[1;33m)\u001b[0m\u001b[1;33m\u001b[0m\u001b[1;33m\u001b[0m\u001b[0m\n\u001b[0m\u001b[0;32m    627\u001b[0m         \u001b[1;32melse\u001b[0m\u001b[1;33m:\u001b[0m\u001b[1;33m\u001b[0m\u001b[1;33m\u001b[0m\u001b[0m\n",
      "\u001b[1;31mClientError\u001b[0m: An error occurred (404) when calling the CreateMultipartUpload operation: Not Found",
      "\nDuring handling of the above exception, another exception occurred:\n",
      "\u001b[1;31mS3UploadFailedError\u001b[0m                       Traceback (most recent call last)",
      "\u001b[1;32m<ipython-input-11-1a691388ef3a>\u001b[0m in \u001b[0;36m<module>\u001b[1;34m\u001b[0m\n\u001b[0;32m     10\u001b[0m \u001b[1;33m\u001b[0m\u001b[0m\n\u001b[0;32m     11\u001b[0m \u001b[1;33m\u001b[0m\u001b[0m\n\u001b[1;32m---> 12\u001b[1;33m \u001b[0mclient\u001b[0m\u001b[1;33m.\u001b[0m\u001b[0mupload_file\u001b[0m\u001b[1;33m(\u001b[0m\u001b[1;34m'result_healthy_pandas.csv'\u001b[0m\u001b[1;33m,\u001b[0m\u001b[0mbucket_name\u001b[0m\u001b[1;33m,\u001b[0m \u001b[1;34m'result_healthy_pandas.csv'\u001b[0m\u001b[1;33m)\u001b[0m\u001b[1;33m\u001b[0m\u001b[1;33m\u001b[0m\u001b[0m\n\u001b[0m\u001b[0;32m     13\u001b[0m \u001b[0mclient\u001b[0m\u001b[1;33m.\u001b[0m\u001b[0mupload_file\u001b[0m\u001b[1;33m(\u001b[0m\u001b[1;34m'result_faulty_pandas.csv'\u001b[0m\u001b[1;33m,\u001b[0m\u001b[0mbucket_name\u001b[0m\u001b[1;33m,\u001b[0m \u001b[1;34m'result_faulty_pandas.csv'\u001b[0m\u001b[1;33m)\u001b[0m\u001b[1;33m\u001b[0m\u001b[1;33m\u001b[0m\u001b[0m\n",
      "\u001b[1;32mc:\\users\\user\\venv\\lib\\site-packages\\ibm_boto3\\s3\\inject.py\u001b[0m in \u001b[0;36mupload_file\u001b[1;34m(self, Filename, Bucket, Key, ExtraArgs, Callback, Config)\u001b[0m\n\u001b[0;32m    127\u001b[0m     \"\"\"\n\u001b[0;32m    128\u001b[0m     \u001b[1;32mwith\u001b[0m \u001b[0mS3Transfer\u001b[0m\u001b[1;33m(\u001b[0m\u001b[0mself\u001b[0m\u001b[1;33m,\u001b[0m \u001b[0mConfig\u001b[0m\u001b[1;33m)\u001b[0m \u001b[1;32mas\u001b[0m \u001b[0mtransfer\u001b[0m\u001b[1;33m:\u001b[0m\u001b[1;33m\u001b[0m\u001b[1;33m\u001b[0m\u001b[0m\n\u001b[1;32m--> 129\u001b[1;33m         return transfer.upload_file(\n\u001b[0m\u001b[0;32m    130\u001b[0m             \u001b[0mfilename\u001b[0m\u001b[1;33m=\u001b[0m\u001b[0mFilename\u001b[0m\u001b[1;33m,\u001b[0m \u001b[0mbucket\u001b[0m\u001b[1;33m=\u001b[0m\u001b[0mBucket\u001b[0m\u001b[1;33m,\u001b[0m \u001b[0mkey\u001b[0m\u001b[1;33m=\u001b[0m\u001b[0mKey\u001b[0m\u001b[1;33m,\u001b[0m\u001b[1;33m\u001b[0m\u001b[1;33m\u001b[0m\u001b[0m\n\u001b[0;32m    131\u001b[0m             extra_args=ExtraArgs, callback=Callback)\n",
      "\u001b[1;32mc:\\users\\user\\venv\\lib\\site-packages\\ibm_boto3\\s3\\transfer.py\u001b[0m in \u001b[0;36mupload_file\u001b[1;34m(self, filename, bucket, key, callback, extra_args)\u001b[0m\n\u001b[0;32m    283\u001b[0m         \u001b[1;31m# client error.\u001b[0m\u001b[1;33m\u001b[0m\u001b[1;33m\u001b[0m\u001b[1;33m\u001b[0m\u001b[0m\n\u001b[0;32m    284\u001b[0m         \u001b[1;32mexcept\u001b[0m \u001b[0mClientError\u001b[0m \u001b[1;32mas\u001b[0m \u001b[0me\u001b[0m\u001b[1;33m:\u001b[0m\u001b[1;33m\u001b[0m\u001b[1;33m\u001b[0m\u001b[0m\n\u001b[1;32m--> 285\u001b[1;33m             raise S3UploadFailedError(\n\u001b[0m\u001b[0;32m    286\u001b[0m                 \"Failed to upload %s to %s: %s\" % (\n\u001b[0;32m    287\u001b[0m                     filename, '/'.join([bucket, key]), e))\n",
      "\u001b[1;31mS3UploadFailedError\u001b[0m: Failed to upload result_healthy_pandas.csv to apachesparkferna/result_healthy_pandas.csv: An error occurred (404) when calling the CreateMultipartUpload operation: Not Found"
     ]
    }
   ],
   "source": [
    "# Create client \n",
    "client = ibm_boto3.client(\n",
    "    's3',\n",
    "    aws_access_key_id = credentials[\"cos_hmac_keys\"]['access_key_id'],\n",
    "    aws_secret_access_key = credentials[\"cos_hmac_keys\"][\"secret_access_key\"],\n",
    "    endpoint_url=endpoint\n",
    ")\n",
    "\n",
    "\n",
    "\n",
    "\n",
    "client.upload_file('result_healthy_pandas.csv',bucket_name, 'result_healthy_pandas.csv')\n",
    "client.upload_file('result_faulty_pandas.csv',bucket_name, 'result_faulty_pandas.csv')"
   ]
  },
  {
   "cell_type": "code",
   "execution_count": null,
   "metadata": {},
   "outputs": [],
   "source": [
    "# Create client \n",
    "client = ibm_boto3.client(\n",
    "    's3',\n",
    "    aws_access_key_id = credentials[\"cos_hmac_keys\"]['access_key_id'],\n",
    "    aws_secret_access_key = credentials[\"cos_hmac_keys\"][\"secret_access_key\"],\n",
    "    endpoint_url=endpoint\n",
    ")\n",
    "\n",
    "\n",
    "\n",
    "client.download_file(bucket_name,'result_healthy_pandas.csv', 'result_healthy_pandas.csv')\n",
    "client.download_file(bucket_name,'result_faulty_pandas.csv', 'result_faulty_pandas.csv')"
   ]
  },
  {
   "cell_type": "code",
   "execution_count": 11,
   "metadata": {},
   "outputs": [
    {
     "data": {
      "text/html": [
       "<div>\n",
       "<style scoped>\n",
       "    .dataframe tbody tr th:only-of-type {\n",
       "        vertical-align: middle;\n",
       "    }\n",
       "\n",
       "    .dataframe tbody tr th {\n",
       "        vertical-align: top;\n",
       "    }\n",
       "\n",
       "    .dataframe thead th {\n",
       "        text-align: right;\n",
       "    }\n",
       "</style>\n",
       "<table border=\"1\" class=\"dataframe\">\n",
       "  <thead>\n",
       "    <tr style=\"text-align: right;\">\n",
       "      <th></th>\n",
       "      <th>0</th>\n",
       "      <th>1</th>\n",
       "      <th>2</th>\n",
       "      <th>3</th>\n",
       "    </tr>\n",
       "  </thead>\n",
       "  <tbody>\n",
       "    <tr>\n",
       "      <th>0</th>\n",
       "      <td>0</td>\n",
       "      <td>97</td>\n",
       "      <td>0.053197</td>\n",
       "      <td>0.145667</td>\n",
       "    </tr>\n",
       "    <tr>\n",
       "      <th>1</th>\n",
       "      <td>1</td>\n",
       "      <td>97</td>\n",
       "      <td>0.088662</td>\n",
       "      <td>0.097796</td>\n",
       "    </tr>\n",
       "    <tr>\n",
       "      <th>2</th>\n",
       "      <td>2</td>\n",
       "      <td>97</td>\n",
       "      <td>0.099718</td>\n",
       "      <td>0.054856</td>\n",
       "    </tr>\n",
       "    <tr>\n",
       "      <th>3</th>\n",
       "      <td>3</td>\n",
       "      <td>97</td>\n",
       "      <td>0.058621</td>\n",
       "      <td>0.036982</td>\n",
       "    </tr>\n",
       "    <tr>\n",
       "      <th>4</th>\n",
       "      <td>4</td>\n",
       "      <td>97</td>\n",
       "      <td>-0.004590</td>\n",
       "      <td>0.054445</td>\n",
       "    </tr>\n",
       "  </tbody>\n",
       "</table>\n",
       "</div>"
      ],
      "text/plain": [
       "   0   1         2         3\n",
       "0  0  97  0.053197  0.145667\n",
       "1  1  97  0.088662  0.097796\n",
       "2  2  97  0.099718  0.054856\n",
       "3  3  97  0.058621  0.036982\n",
       "4  4  97 -0.004590  0.054445"
      ]
     },
     "execution_count": 11,
     "metadata": {},
     "output_type": "execute_result"
    }
   ],
   "source": [
    "import pandas as pd\n",
    "df_healthy = pd.read_csv('result_healthy_pandas.csv', engine='python', header=None)\n",
    "df_healthy.head()"
   ]
  },
  {
   "cell_type": "code",
   "execution_count": 12,
   "metadata": {},
   "outputs": [
    {
     "data": {
      "text/html": [
       "<div>\n",
       "<style scoped>\n",
       "    .dataframe tbody tr th:only-of-type {\n",
       "        vertical-align: middle;\n",
       "    }\n",
       "\n",
       "    .dataframe tbody tr th {\n",
       "        vertical-align: top;\n",
       "    }\n",
       "\n",
       "    .dataframe thead th {\n",
       "        text-align: right;\n",
       "    }\n",
       "</style>\n",
       "<table border=\"1\" class=\"dataframe\">\n",
       "  <thead>\n",
       "    <tr style=\"text-align: right;\">\n",
       "      <th></th>\n",
       "      <th>0</th>\n",
       "      <th>1</th>\n",
       "      <th>2</th>\n",
       "      <th>3</th>\n",
       "    </tr>\n",
       "  </thead>\n",
       "  <tbody>\n",
       "  </tbody>\n",
       "</table>\n",
       "</div>"
      ],
      "text/plain": [
       "Empty DataFrame\n",
       "Columns: [0, 1, 2, 3]\n",
       "Index: []"
      ]
     },
     "execution_count": 12,
     "metadata": {},
     "output_type": "execute_result"
    }
   ],
   "source": [
    "df_healthy.loc[df_healthy[1] == 100]"
   ]
  },
  {
   "cell_type": "code",
   "execution_count": 13,
   "metadata": {},
   "outputs": [
    {
     "data": {
      "text/html": [
       "<div>\n",
       "<style scoped>\n",
       "    .dataframe tbody tr th:only-of-type {\n",
       "        vertical-align: middle;\n",
       "    }\n",
       "\n",
       "    .dataframe tbody tr th {\n",
       "        vertical-align: top;\n",
       "    }\n",
       "\n",
       "    .dataframe thead th {\n",
       "        text-align: right;\n",
       "    }\n",
       "</style>\n",
       "<table border=\"1\" class=\"dataframe\">\n",
       "  <thead>\n",
       "    <tr style=\"text-align: right;\">\n",
       "      <th></th>\n",
       "      <th>0</th>\n",
       "      <th>1</th>\n",
       "      <th>2</th>\n",
       "      <th>3</th>\n",
       "    </tr>\n",
       "  </thead>\n",
       "  <tbody>\n",
       "    <tr>\n",
       "      <th>0</th>\n",
       "      <td>0</td>\n",
       "      <td>203</td>\n",
       "      <td>-0.124752</td>\n",
       "      <td>0.017875</td>\n",
       "    </tr>\n",
       "    <tr>\n",
       "      <th>1</th>\n",
       "      <td>1</td>\n",
       "      <td>203</td>\n",
       "      <td>-0.129133</td>\n",
       "      <td>-0.019313</td>\n",
       "    </tr>\n",
       "    <tr>\n",
       "      <th>2</th>\n",
       "      <td>2</td>\n",
       "      <td>203</td>\n",
       "      <td>-0.132054</td>\n",
       "      <td>-0.027942</td>\n",
       "    </tr>\n",
       "    <tr>\n",
       "      <th>3</th>\n",
       "      <td>3</td>\n",
       "      <td>203</td>\n",
       "      <td>-0.118911</td>\n",
       "      <td>-0.024449</td>\n",
       "    </tr>\n",
       "    <tr>\n",
       "      <th>4</th>\n",
       "      <td>4</td>\n",
       "      <td>203</td>\n",
       "      <td>-0.078022</td>\n",
       "      <td>0.002876</td>\n",
       "    </tr>\n",
       "  </tbody>\n",
       "</table>\n",
       "</div>"
      ],
      "text/plain": [
       "   0    1         2         3\n",
       "0  0  203 -0.124752  0.017875\n",
       "1  1  203 -0.129133 -0.019313\n",
       "2  2  203 -0.132054 -0.027942\n",
       "3  3  203 -0.118911 -0.024449\n",
       "4  4  203 -0.078022  0.002876"
      ]
     },
     "execution_count": 13,
     "metadata": {},
     "output_type": "execute_result"
    }
   ],
   "source": [
    "df_faulty = pd.read_csv('result_faulty_pandas.csv', engine='python', header=None)\n",
    "df_faulty.head()"
   ]
  },
  {
   "cell_type": "code",
   "execution_count": 42,
   "metadata": {},
   "outputs": [],
   "source": [
    "import numpy as np\n",
    "from numpy import concatenate\n",
    "from matplotlib import pyplot\n",
    "from pandas import read_csv\n",
    "from pandas import DataFrame\n",
    "from pandas import concat\n",
    "import sklearn\n",
    "import tensorflow.keras\n",
    "from sklearn.preprocessing import MinMaxScaler\n",
    "from sklearn.preprocessing import MinMaxScaler\n",
    "from sklearn.preprocessing import LabelEncoder\n",
    "from sklearn.metrics import mean_squared_error\n",
    "from tensorflow.keras.models import Sequential\n",
    "from tensorflow.keras.layers import Dense\n",
    "from tensorflow.keras.layers import LSTM\n",
    "from tensorflow.keras.callbacks import Callback\n",
    "from tensorflow.keras.models import Sequential\n",
    "from tensorflow.keras.layers import LSTM, Dense, Activation\n",
    "import sys\n",
    "import matplotlib.pyplot as plt\n",
    "from mpl_toolkits.mplot3d import Axes3D\n",
    "import time\n",
    "%matplotlib inline"
   ]
  },
  {
   "cell_type": "code",
   "execution_count": 22,
   "metadata": {},
   "outputs": [],
   "source": [
    "def get_recording(df,file_id):\n",
    "    return np.array(df.sort_values(by=0, ascending=True).loc[df[1] == file_id].drop(0,1).drop(1,1))"
   ]
  },
  {
   "cell_type": "code",
   "execution_count": 23,
   "metadata": {},
   "outputs": [],
   "source": [
    "import numpy as np\n",
    "healthy_sample = get_recording(df_healthy,100)\n",
    "faulty_sample = get_recording(df_faulty,125)"
   ]
  },
  {
   "cell_type": "code",
   "execution_count": 24,
   "metadata": {},
   "outputs": [
    {
     "data": {
      "text/plain": [
       "[<matplotlib.lines.Line2D at 0x22ed04409d0>]"
      ]
     },
     "execution_count": 24,
     "metadata": {},
     "output_type": "execute_result"
    },
    {
     "data": {
      "image/png": "[encoded data removed]",
      "text/plain": [
       "<Figure size 1120x480 with 1 Axes>"
      ]
     },
     "metadata": {},
     "output_type": "display_data"
    }
   ],
   "source": [
    "fig, ax = plt.subplots(num=None, figsize=(14, 6), dpi=80, facecolor='w', edgecolor='k')\n",
    "size = len(healthy_sample)\n",
    "ax.plot(range(0,size), healthy_sample[:,0], '-', color='red', animated = True, linewidth=1)\n",
    "ax.plot(range(0,size), healthy_sample[:,1], '-', color='blue', animated = True, linewidth=1)"
   ]
  },
  {
   "cell_type": "code",
   "execution_count": 25,
   "metadata": {},
   "outputs": [
    {
     "data": {
      "text/plain": [
       "[<matplotlib.lines.Line2D at 0x22eb523c7f0>]"
      ]
     },
     "execution_count": 25,
     "metadata": {},
     "output_type": "execute_result"
    },
    {
     "data": {
      "image/png": "[encoded data removed]",
      "text/plain": [
       "<Figure size 1120x480 with 1 Axes>"
      ]
     },
     "metadata": {},
     "output_type": "display_data"
    }
   ],
   "source": [
    "fig, ax = plt.subplots(num=None, figsize=(14, 6), dpi=80, facecolor='w', edgecolor='k')\n",
    "size = len(faulty_sample)\n",
    "ax.plot(range(0,size), faulty_sample[:,1], '-', color='red', animated = True, linewidth=1)\n",
    "ax.plot(range(0,size), faulty_sample[:,0], '-', color='blue', animated = True, linewidth=1)"
   ]
  },
  {
   "cell_type": "code",
   "execution_count": 26,
   "metadata": {},
   "outputs": [
    {
     "ename": "ValueError",
     "evalue": "x and y must have same first dimension, but have shapes (500,) and (0,)",
     "output_type": "error",
     "traceback": [
      "\u001b[1;31m---------------------------------------------------------------------------\u001b[0m",
      "\u001b[1;31mValueError\u001b[0m                                Traceback (most recent call last)",
      "\u001b[1;32m<ipython-input-26-4ac6d014311f>\u001b[0m in \u001b[0;36m<module>\u001b[1;34m\u001b[0m\n\u001b[0;32m      1\u001b[0m \u001b[0mfig\u001b[0m\u001b[1;33m,\u001b[0m \u001b[0max\u001b[0m \u001b[1;33m=\u001b[0m \u001b[0mplt\u001b[0m\u001b[1;33m.\u001b[0m\u001b[0msubplots\u001b[0m\u001b[1;33m(\u001b[0m\u001b[0mnum\u001b[0m\u001b[1;33m=\u001b[0m\u001b[1;32mNone\u001b[0m\u001b[1;33m,\u001b[0m \u001b[0mfigsize\u001b[0m\u001b[1;33m=\u001b[0m\u001b[1;33m(\u001b[0m\u001b[1;36m14\u001b[0m\u001b[1;33m,\u001b[0m \u001b[1;36m6\u001b[0m\u001b[1;33m)\u001b[0m\u001b[1;33m,\u001b[0m \u001b[0mdpi\u001b[0m\u001b[1;33m=\u001b[0m\u001b[1;36m80\u001b[0m\u001b[1;33m,\u001b[0m \u001b[0mfacecolor\u001b[0m\u001b[1;33m=\u001b[0m\u001b[1;34m'w'\u001b[0m\u001b[1;33m,\u001b[0m \u001b[0medgecolor\u001b[0m\u001b[1;33m=\u001b[0m\u001b[1;34m'k'\u001b[0m\u001b[1;33m)\u001b[0m\u001b[1;33m\u001b[0m\u001b[1;33m\u001b[0m\u001b[0m\n\u001b[1;32m----> 2\u001b[1;33m \u001b[0max\u001b[0m\u001b[1;33m.\u001b[0m\u001b[0mplot\u001b[0m\u001b[1;33m(\u001b[0m\u001b[0mrange\u001b[0m\u001b[1;33m(\u001b[0m\u001b[1;36m0\u001b[0m\u001b[1;33m,\u001b[0m\u001b[1;36m500\u001b[0m\u001b[1;33m)\u001b[0m\u001b[1;33m,\u001b[0m \u001b[0mhealthy_sample\u001b[0m\u001b[1;33m[\u001b[0m\u001b[1;33m:\u001b[0m\u001b[1;36m500\u001b[0m\u001b[1;33m,\u001b[0m\u001b[1;36m0\u001b[0m\u001b[1;33m]\u001b[0m\u001b[1;33m,\u001b[0m \u001b[1;34m'-'\u001b[0m\u001b[1;33m,\u001b[0m \u001b[0mcolor\u001b[0m\u001b[1;33m=\u001b[0m\u001b[1;34m'red'\u001b[0m\u001b[1;33m,\u001b[0m \u001b[0manimated\u001b[0m \u001b[1;33m=\u001b[0m \u001b[1;32mTrue\u001b[0m\u001b[1;33m,\u001b[0m \u001b[0mlinewidth\u001b[0m\u001b[1;33m=\u001b[0m\u001b[1;36m1\u001b[0m\u001b[1;33m)\u001b[0m\u001b[1;33m\u001b[0m\u001b[1;33m\u001b[0m\u001b[0m\n\u001b[0m\u001b[0;32m      3\u001b[0m \u001b[0max\u001b[0m\u001b[1;33m.\u001b[0m\u001b[0mplot\u001b[0m\u001b[1;33m(\u001b[0m\u001b[0mrange\u001b[0m\u001b[1;33m(\u001b[0m\u001b[1;36m0\u001b[0m\u001b[1;33m,\u001b[0m\u001b[1;36m500\u001b[0m\u001b[1;33m)\u001b[0m\u001b[1;33m,\u001b[0m \u001b[0mhealthy_sample\u001b[0m\u001b[1;33m[\u001b[0m\u001b[1;33m:\u001b[0m\u001b[1;36m500\u001b[0m\u001b[1;33m,\u001b[0m\u001b[1;36m1\u001b[0m\u001b[1;33m]\u001b[0m\u001b[1;33m,\u001b[0m \u001b[1;34m'-'\u001b[0m\u001b[1;33m,\u001b[0m \u001b[0mcolor\u001b[0m\u001b[1;33m=\u001b[0m\u001b[1;34m'blue'\u001b[0m\u001b[1;33m,\u001b[0m \u001b[0manimated\u001b[0m \u001b[1;33m=\u001b[0m \u001b[1;32mTrue\u001b[0m\u001b[1;33m,\u001b[0m \u001b[0mlinewidth\u001b[0m\u001b[1;33m=\u001b[0m\u001b[1;36m1\u001b[0m\u001b[1;33m)\u001b[0m\u001b[1;33m\u001b[0m\u001b[1;33m\u001b[0m\u001b[0m\n",
      "\u001b[1;32mc:\\users\\user\\venv\\lib\\site-packages\\matplotlib\\axes\\_axes.py\u001b[0m in \u001b[0;36mplot\u001b[1;34m(self, scalex, scaley, data, *args, **kwargs)\u001b[0m\n\u001b[0;32m   1741\u001b[0m         \"\"\"\n\u001b[0;32m   1742\u001b[0m         \u001b[0mkwargs\u001b[0m \u001b[1;33m=\u001b[0m \u001b[0mcbook\u001b[0m\u001b[1;33m.\u001b[0m\u001b[0mnormalize_kwargs\u001b[0m\u001b[1;33m(\u001b[0m\u001b[0mkwargs\u001b[0m\u001b[1;33m,\u001b[0m \u001b[0mmlines\u001b[0m\u001b[1;33m.\u001b[0m\u001b[0mLine2D\u001b[0m\u001b[1;33m)\u001b[0m\u001b[1;33m\u001b[0m\u001b[1;33m\u001b[0m\u001b[0m\n\u001b[1;32m-> 1743\u001b[1;33m         \u001b[0mlines\u001b[0m \u001b[1;33m=\u001b[0m \u001b[1;33m[\u001b[0m\u001b[1;33m*\u001b[0m\u001b[0mself\u001b[0m\u001b[1;33m.\u001b[0m\u001b[0m_get_lines\u001b[0m\u001b[1;33m(\u001b[0m\u001b[1;33m*\u001b[0m\u001b[0margs\u001b[0m\u001b[1;33m,\u001b[0m \u001b[0mdata\u001b[0m\u001b[1;33m=\u001b[0m\u001b[0mdata\u001b[0m\u001b[1;33m,\u001b[0m \u001b[1;33m**\u001b[0m\u001b[0mkwargs\u001b[0m\u001b[1;33m)\u001b[0m\u001b[1;33m]\u001b[0m\u001b[1;33m\u001b[0m\u001b[1;33m\u001b[0m\u001b[0m\n\u001b[0m\u001b[0;32m   1744\u001b[0m         \u001b[1;32mfor\u001b[0m \u001b[0mline\u001b[0m \u001b[1;32min\u001b[0m \u001b[0mlines\u001b[0m\u001b[1;33m:\u001b[0m\u001b[1;33m\u001b[0m\u001b[1;33m\u001b[0m\u001b[0m\n\u001b[0;32m   1745\u001b[0m             \u001b[0mself\u001b[0m\u001b[1;33m.\u001b[0m\u001b[0madd_line\u001b[0m\u001b[1;33m(\u001b[0m\u001b[0mline\u001b[0m\u001b[1;33m)\u001b[0m\u001b[1;33m\u001b[0m\u001b[1;33m\u001b[0m\u001b[0m\n",
      "\u001b[1;32mc:\\users\\user\\venv\\lib\\site-packages\\matplotlib\\axes\\_base.py\u001b[0m in \u001b[0;36m__call__\u001b[1;34m(self, data, *args, **kwargs)\u001b[0m\n\u001b[0;32m    271\u001b[0m                 \u001b[0mthis\u001b[0m \u001b[1;33m+=\u001b[0m \u001b[0margs\u001b[0m\u001b[1;33m[\u001b[0m\u001b[1;36m0\u001b[0m\u001b[1;33m]\u001b[0m\u001b[1;33m,\u001b[0m\u001b[1;33m\u001b[0m\u001b[1;33m\u001b[0m\u001b[0m\n\u001b[0;32m    272\u001b[0m                 \u001b[0margs\u001b[0m \u001b[1;33m=\u001b[0m \u001b[0margs\u001b[0m\u001b[1;33m[\u001b[0m\u001b[1;36m1\u001b[0m\u001b[1;33m:\u001b[0m\u001b[1;33m]\u001b[0m\u001b[1;33m\u001b[0m\u001b[1;33m\u001b[0m\u001b[0m\n\u001b[1;32m--> 273\u001b[1;33m             \u001b[1;32myield\u001b[0m \u001b[1;32mfrom\u001b[0m \u001b[0mself\u001b[0m\u001b[1;33m.\u001b[0m\u001b[0m_plot_args\u001b[0m\u001b[1;33m(\u001b[0m\u001b[0mthis\u001b[0m\u001b[1;33m,\u001b[0m \u001b[0mkwargs\u001b[0m\u001b[1;33m)\u001b[0m\u001b[1;33m\u001b[0m\u001b[1;33m\u001b[0m\u001b[0m\n\u001b[0m\u001b[0;32m    274\u001b[0m \u001b[1;33m\u001b[0m\u001b[0m\n\u001b[0;32m    275\u001b[0m     \u001b[1;32mdef\u001b[0m \u001b[0mget_next_color\u001b[0m\u001b[1;33m(\u001b[0m\u001b[0mself\u001b[0m\u001b[1;33m)\u001b[0m\u001b[1;33m:\u001b[0m\u001b[1;33m\u001b[0m\u001b[1;33m\u001b[0m\u001b[0m\n",
      "\u001b[1;32mc:\\users\\user\\venv\\lib\\site-packages\\matplotlib\\axes\\_base.py\u001b[0m in \u001b[0;36m_plot_args\u001b[1;34m(self, tup, kwargs)\u001b[0m\n\u001b[0;32m    397\u001b[0m \u001b[1;33m\u001b[0m\u001b[0m\n\u001b[0;32m    398\u001b[0m         \u001b[1;32mif\u001b[0m \u001b[0mx\u001b[0m\u001b[1;33m.\u001b[0m\u001b[0mshape\u001b[0m\u001b[1;33m[\u001b[0m\u001b[1;36m0\u001b[0m\u001b[1;33m]\u001b[0m \u001b[1;33m!=\u001b[0m \u001b[0my\u001b[0m\u001b[1;33m.\u001b[0m\u001b[0mshape\u001b[0m\u001b[1;33m[\u001b[0m\u001b[1;36m0\u001b[0m\u001b[1;33m]\u001b[0m\u001b[1;33m:\u001b[0m\u001b[1;33m\u001b[0m\u001b[1;33m\u001b[0m\u001b[0m\n\u001b[1;32m--> 399\u001b[1;33m             raise ValueError(f\"x and y must have same first dimension, but \"\n\u001b[0m\u001b[0;32m    400\u001b[0m                              f\"have shapes {x.shape} and {y.shape}\")\n\u001b[0;32m    401\u001b[0m         \u001b[1;32mif\u001b[0m \u001b[0mx\u001b[0m\u001b[1;33m.\u001b[0m\u001b[0mndim\u001b[0m \u001b[1;33m>\u001b[0m \u001b[1;36m2\u001b[0m \u001b[1;32mor\u001b[0m \u001b[0my\u001b[0m\u001b[1;33m.\u001b[0m\u001b[0mndim\u001b[0m \u001b[1;33m>\u001b[0m \u001b[1;36m2\u001b[0m\u001b[1;33m:\u001b[0m\u001b[1;33m\u001b[0m\u001b[1;33m\u001b[0m\u001b[0m\n",
      "\u001b[1;31mValueError\u001b[0m: x and y must have same first dimension, but have shapes (500,) and (0,)"
     ]
    },
    {
     "data": {
      "image/png": "[encoded data removed]",
      "text/plain": [
       "<Figure size 1120x480 with 1 Axes>"
      ]
     },
     "metadata": {},
     "output_type": "display_data"
    }
   ],
   "source": [
    "fig, ax = plt.subplots(num=None, figsize=(14, 6), dpi=80, facecolor='w', edgecolor='k')\n",
    "ax.plot(range(0,500), healthy_sample[:500,0], '-', color='red', animated = True, linewidth=1)\n",
    "ax.plot(range(0,500), healthy_sample[:500,1], '-', color='blue', animated = True, linewidth=1)"
   ]
  },
  {
   "cell_type": "code",
   "execution_count": 27,
   "metadata": {},
   "outputs": [
    {
     "ename": "ValueError",
     "evalue": "x and y must have same first dimension, but have shapes (500,) and (0,)",
     "output_type": "error",
     "traceback": [
      "\u001b[1;31m---------------------------------------------------------------------------\u001b[0m",
      "\u001b[1;31mValueError\u001b[0m                                Traceback (most recent call last)",
      "\u001b[1;32m<ipython-input-27-c96dd68b21d7>\u001b[0m in \u001b[0;36m<module>\u001b[1;34m\u001b[0m\n\u001b[0;32m      1\u001b[0m \u001b[0mfig\u001b[0m\u001b[1;33m,\u001b[0m \u001b[0max\u001b[0m \u001b[1;33m=\u001b[0m \u001b[0mplt\u001b[0m\u001b[1;33m.\u001b[0m\u001b[0msubplots\u001b[0m\u001b[1;33m(\u001b[0m\u001b[0mnum\u001b[0m\u001b[1;33m=\u001b[0m\u001b[1;32mNone\u001b[0m\u001b[1;33m,\u001b[0m \u001b[0mfigsize\u001b[0m\u001b[1;33m=\u001b[0m\u001b[1;33m(\u001b[0m\u001b[1;36m14\u001b[0m\u001b[1;33m,\u001b[0m \u001b[1;36m6\u001b[0m\u001b[1;33m)\u001b[0m\u001b[1;33m,\u001b[0m \u001b[0mdpi\u001b[0m\u001b[1;33m=\u001b[0m\u001b[1;36m80\u001b[0m\u001b[1;33m,\u001b[0m \u001b[0mfacecolor\u001b[0m\u001b[1;33m=\u001b[0m\u001b[1;34m'w'\u001b[0m\u001b[1;33m,\u001b[0m \u001b[0medgecolor\u001b[0m\u001b[1;33m=\u001b[0m\u001b[1;34m'k'\u001b[0m\u001b[1;33m)\u001b[0m\u001b[1;33m\u001b[0m\u001b[1;33m\u001b[0m\u001b[0m\n\u001b[1;32m----> 2\u001b[1;33m \u001b[0max\u001b[0m\u001b[1;33m.\u001b[0m\u001b[0mplot\u001b[0m\u001b[1;33m(\u001b[0m\u001b[0mrange\u001b[0m\u001b[1;33m(\u001b[0m\u001b[1;36m0\u001b[0m\u001b[1;33m,\u001b[0m\u001b[1;36m500\u001b[0m\u001b[1;33m)\u001b[0m\u001b[1;33m,\u001b[0m \u001b[0mfaulty_sample\u001b[0m\u001b[1;33m[\u001b[0m\u001b[1;33m:\u001b[0m\u001b[1;36m500\u001b[0m\u001b[1;33m,\u001b[0m\u001b[1;36m0\u001b[0m\u001b[1;33m]\u001b[0m\u001b[1;33m,\u001b[0m \u001b[1;34m'-'\u001b[0m\u001b[1;33m,\u001b[0m \u001b[0mcolor\u001b[0m\u001b[1;33m=\u001b[0m\u001b[1;34m'red'\u001b[0m\u001b[1;33m,\u001b[0m \u001b[0manimated\u001b[0m \u001b[1;33m=\u001b[0m \u001b[1;32mTrue\u001b[0m\u001b[1;33m,\u001b[0m \u001b[0mlinewidth\u001b[0m\u001b[1;33m=\u001b[0m\u001b[1;36m1\u001b[0m\u001b[1;33m)\u001b[0m\u001b[1;33m\u001b[0m\u001b[1;33m\u001b[0m\u001b[0m\n\u001b[0m\u001b[0;32m      3\u001b[0m \u001b[0max\u001b[0m\u001b[1;33m.\u001b[0m\u001b[0mplot\u001b[0m\u001b[1;33m(\u001b[0m\u001b[0mrange\u001b[0m\u001b[1;33m(\u001b[0m\u001b[1;36m0\u001b[0m\u001b[1;33m,\u001b[0m\u001b[1;36m500\u001b[0m\u001b[1;33m)\u001b[0m\u001b[1;33m,\u001b[0m \u001b[0mfaulty_sample\u001b[0m\u001b[1;33m[\u001b[0m\u001b[1;33m:\u001b[0m\u001b[1;36m500\u001b[0m\u001b[1;33m,\u001b[0m\u001b[1;36m1\u001b[0m\u001b[1;33m]\u001b[0m\u001b[1;33m,\u001b[0m \u001b[1;34m'-'\u001b[0m\u001b[1;33m,\u001b[0m \u001b[0mcolor\u001b[0m\u001b[1;33m=\u001b[0m\u001b[1;34m'blue'\u001b[0m\u001b[1;33m,\u001b[0m \u001b[0manimated\u001b[0m \u001b[1;33m=\u001b[0m \u001b[1;32mTrue\u001b[0m\u001b[1;33m,\u001b[0m \u001b[0mlinewidth\u001b[0m\u001b[1;33m=\u001b[0m\u001b[1;36m1\u001b[0m\u001b[1;33m)\u001b[0m\u001b[1;33m\u001b[0m\u001b[1;33m\u001b[0m\u001b[0m\n",
      "\u001b[1;32mc:\\users\\user\\venv\\lib\\site-packages\\matplotlib\\axes\\_axes.py\u001b[0m in \u001b[0;36mplot\u001b[1;34m(self, scalex, scaley, data, *args, **kwargs)\u001b[0m\n\u001b[0;32m   1741\u001b[0m         \"\"\"\n\u001b[0;32m   1742\u001b[0m         \u001b[0mkwargs\u001b[0m \u001b[1;33m=\u001b[0m \u001b[0mcbook\u001b[0m\u001b[1;33m.\u001b[0m\u001b[0mnormalize_kwargs\u001b[0m\u001b[1;33m(\u001b[0m\u001b[0mkwargs\u001b[0m\u001b[1;33m,\u001b[0m \u001b[0mmlines\u001b[0m\u001b[1;33m.\u001b[0m\u001b[0mLine2D\u001b[0m\u001b[1;33m)\u001b[0m\u001b[1;33m\u001b[0m\u001b[1;33m\u001b[0m\u001b[0m\n\u001b[1;32m-> 1743\u001b[1;33m         \u001b[0mlines\u001b[0m \u001b[1;33m=\u001b[0m \u001b[1;33m[\u001b[0m\u001b[1;33m*\u001b[0m\u001b[0mself\u001b[0m\u001b[1;33m.\u001b[0m\u001b[0m_get_lines\u001b[0m\u001b[1;33m(\u001b[0m\u001b[1;33m*\u001b[0m\u001b[0margs\u001b[0m\u001b[1;33m,\u001b[0m \u001b[0mdata\u001b[0m\u001b[1;33m=\u001b[0m\u001b[0mdata\u001b[0m\u001b[1;33m,\u001b[0m \u001b[1;33m**\u001b[0m\u001b[0mkwargs\u001b[0m\u001b[1;33m)\u001b[0m\u001b[1;33m]\u001b[0m\u001b[1;33m\u001b[0m\u001b[1;33m\u001b[0m\u001b[0m\n\u001b[0m\u001b[0;32m   1744\u001b[0m         \u001b[1;32mfor\u001b[0m \u001b[0mline\u001b[0m \u001b[1;32min\u001b[0m \u001b[0mlines\u001b[0m\u001b[1;33m:\u001b[0m\u001b[1;33m\u001b[0m\u001b[1;33m\u001b[0m\u001b[0m\n\u001b[0;32m   1745\u001b[0m             \u001b[0mself\u001b[0m\u001b[1;33m.\u001b[0m\u001b[0madd_line\u001b[0m\u001b[1;33m(\u001b[0m\u001b[0mline\u001b[0m\u001b[1;33m)\u001b[0m\u001b[1;33m\u001b[0m\u001b[1;33m\u001b[0m\u001b[0m\n",
      "\u001b[1;32mc:\\users\\user\\venv\\lib\\site-packages\\matplotlib\\axes\\_base.py\u001b[0m in \u001b[0;36m__call__\u001b[1;34m(self, data, *args, **kwargs)\u001b[0m\n\u001b[0;32m    271\u001b[0m                 \u001b[0mthis\u001b[0m \u001b[1;33m+=\u001b[0m \u001b[0margs\u001b[0m\u001b[1;33m[\u001b[0m\u001b[1;36m0\u001b[0m\u001b[1;33m]\u001b[0m\u001b[1;33m,\u001b[0m\u001b[1;33m\u001b[0m\u001b[1;33m\u001b[0m\u001b[0m\n\u001b[0;32m    272\u001b[0m                 \u001b[0margs\u001b[0m \u001b[1;33m=\u001b[0m \u001b[0margs\u001b[0m\u001b[1;33m[\u001b[0m\u001b[1;36m1\u001b[0m\u001b[1;33m:\u001b[0m\u001b[1;33m]\u001b[0m\u001b[1;33m\u001b[0m\u001b[1;33m\u001b[0m\u001b[0m\n\u001b[1;32m--> 273\u001b[1;33m             \u001b[1;32myield\u001b[0m \u001b[1;32mfrom\u001b[0m \u001b[0mself\u001b[0m\u001b[1;33m.\u001b[0m\u001b[0m_plot_args\u001b[0m\u001b[1;33m(\u001b[0m\u001b[0mthis\u001b[0m\u001b[1;33m,\u001b[0m \u001b[0mkwargs\u001b[0m\u001b[1;33m)\u001b[0m\u001b[1;33m\u001b[0m\u001b[1;33m\u001b[0m\u001b[0m\n\u001b[0m\u001b[0;32m    274\u001b[0m \u001b[1;33m\u001b[0m\u001b[0m\n\u001b[0;32m    275\u001b[0m     \u001b[1;32mdef\u001b[0m \u001b[0mget_next_color\u001b[0m\u001b[1;33m(\u001b[0m\u001b[0mself\u001b[0m\u001b[1;33m)\u001b[0m\u001b[1;33m:\u001b[0m\u001b[1;33m\u001b[0m\u001b[1;33m\u001b[0m\u001b[0m\n",
      "\u001b[1;32mc:\\users\\user\\venv\\lib\\site-packages\\matplotlib\\axes\\_base.py\u001b[0m in \u001b[0;36m_plot_args\u001b[1;34m(self, tup, kwargs)\u001b[0m\n\u001b[0;32m    397\u001b[0m \u001b[1;33m\u001b[0m\u001b[0m\n\u001b[0;32m    398\u001b[0m         \u001b[1;32mif\u001b[0m \u001b[0mx\u001b[0m\u001b[1;33m.\u001b[0m\u001b[0mshape\u001b[0m\u001b[1;33m[\u001b[0m\u001b[1;36m0\u001b[0m\u001b[1;33m]\u001b[0m \u001b[1;33m!=\u001b[0m \u001b[0my\u001b[0m\u001b[1;33m.\u001b[0m\u001b[0mshape\u001b[0m\u001b[1;33m[\u001b[0m\u001b[1;36m0\u001b[0m\u001b[1;33m]\u001b[0m\u001b[1;33m:\u001b[0m\u001b[1;33m\u001b[0m\u001b[1;33m\u001b[0m\u001b[0m\n\u001b[1;32m--> 399\u001b[1;33m             raise ValueError(f\"x and y must have same first dimension, but \"\n\u001b[0m\u001b[0;32m    400\u001b[0m                              f\"have shapes {x.shape} and {y.shape}\")\n\u001b[0;32m    401\u001b[0m         \u001b[1;32mif\u001b[0m \u001b[0mx\u001b[0m\u001b[1;33m.\u001b[0m\u001b[0mndim\u001b[0m \u001b[1;33m>\u001b[0m \u001b[1;36m2\u001b[0m \u001b[1;32mor\u001b[0m \u001b[0my\u001b[0m\u001b[1;33m.\u001b[0m\u001b[0mndim\u001b[0m \u001b[1;33m>\u001b[0m \u001b[1;36m2\u001b[0m\u001b[1;33m:\u001b[0m\u001b[1;33m\u001b[0m\u001b[1;33m\u001b[0m\u001b[0m\n",
      "\u001b[1;31mValueError\u001b[0m: x and y must have same first dimension, but have shapes (500,) and (0,)"
     ]
    },
    {
     "data": {
      "image/png": "[encoded data removed]",
      "text/plain": [
       "<Figure size 1120x480 with 1 Axes>"
      ]
     },
     "metadata": {},
     "output_type": "display_data"
    }
   ],
   "source": [
    "fig, ax = plt.subplots(num=None, figsize=(14, 6), dpi=80, facecolor='w', edgecolor='k')\n",
    "ax.plot(range(0,500), faulty_sample[:500,0], '-', color='red', animated = True, linewidth=1)\n",
    "ax.plot(range(0,500), faulty_sample[:500,1], '-', color='blue', animated = True, linewidth=1)"
   ]
  },
  {
   "cell_type": "code",
   "execution_count": 38,
   "metadata": {},
   "outputs": [],
   "source": [
    "class LossHistory(Callback):\n",
    "    def on_train_begin(self, logs={}):\n",
    "        self.losses = []\n",
    "\n",
    "    def on_batch_end(self, batch, logs={}):\n",
    "        sys.stdout.write(str(logs.get('loss'))+str(', '))\n",
    "        sys.stdout.flush()\n",
    "        self.losses.append(logs.get('loss'))\n",
    "        \n",
    "lr = LossHistory()"
   ]
  },
  {
   "cell_type": "code",
   "execution_count": 40,
   "metadata": {},
   "outputs": [],
   "source": [
    "timesteps = 100\n",
    "dim = 2\n",
    "lossHistory = LossHistory()\n",
    "# design network\n",
    "\n",
    "model = Sequential()\n",
    "model.add(LSTM(50,input_shape=(timesteps,dim),return_sequences=True))\n",
    "model.add(Dense(2))\n",
    "model.compile(loss='mae', optimizer='adam')\n",
    "\n",
    "def train(data):\n",
    "    model.fit(data, data, epochs=20, batch_size=72, validation_data=(data, data), verbose=1, shuffle=False,callbacks=[lr])\n",
    "\n",
    "def score(data):\n",
    "    yhat =  model.predict(data)\n",
    "    return yhat"
   ]
  },
  {
   "cell_type": "code",
   "execution_count": 30,
   "metadata": {},
   "outputs": [],
   "source": [
    "#some learners constantly reported 502 errors in Watson Studio. \n",
    "#This is due to the limited resources in the free tier and the heavy resource consumption of Keras.\n",
    "#This is a workaround to limit resource consumption\n",
    "\n",
    "from keras import backend as K\n",
    "\n",
    "#K.set_session(K.tf.Session(config=K.tf.ConfigProto(intra_op_parallelism_threads=1, inter_op_parallelism_threads=1)))\n",
    "K.set_session(K.tf.compat.v1.Session(config=K.tf.compat.v1.ConfigProto(intra_op_parallelism_threads=1, inter_op_parallelism_threads=1)))"
   ]
  },
  {
   "cell_type": "code",
   "execution_count": 31,
   "metadata": {},
   "outputs": [],
   "source": [
    "def create_trimmed_recording(df,file_id):\n",
    "    recording = get_recording(df,file_id) \n",
    "    samples = len(recording)\n",
    "    trim = samples % 100\n",
    "    recording_trimmed = recording[:samples-trim]\n",
    "    recording_trimmed.shape = (int((samples-trim)/timesteps),timesteps,dim)\n",
    "    return recording_trimmed"
   ]
  },
  {
   "cell_type": "code",
   "execution_count": 32,
   "metadata": {},
   "outputs": [
    {
     "data": {
      "text/plain": [
       "array([97], dtype=int64)"
      ]
     },
     "execution_count": 32,
     "metadata": {},
     "output_type": "execute_result"
    }
   ],
   "source": [
    "#pd.unique()\n",
    "#df_healthy.drop(0,1).drop(2,1).drop(3,1)\n",
    "pd.unique(df_healthy.iloc[:,1])"
   ]
  },
  {
   "cell_type": "code",
   "execution_count": 43,
   "metadata": {},
   "outputs": [
    {
     "name": "stdout",
     "output_type": "stream",
     "text": [
      "Staring training on 97\n",
      "Epoch 1/20\n",
      "34/34 [==============================] - 3s 87ms/step - loss: 0.0532 - val_loss: 0.045864342877268791,0.05940468981862068,0.05903489887714386,0.058622006326913834,0.05838002264499664,0.058194175362586975,0.0579981692135334,0.0578712522983551,0.05762519687414169,0.05738857388496399,0.057164594531059265,0.05694221705198288,0.05666879564523697,0.056392841041088104,0.05615653097629547,0.05598734691739082,0.055812276899814606,0.05565440282225609,0.05552169308066368,0.05530722439289093,0.0551331453025341,0.05498102679848671,0.05479433014988899,0.054632361978292465,0.054476603865623474,0.054340798407793045,0.05417417362332344,0.05398895591497421,0.053796473890542984,0.05358150973916054,0.0533469021320343,0.05317198112607002\n",
      "Epoch 2/20\n",
      "34/34 [==============================] - 2s 66ms/step - loss: 0.0357 - val_loss: 0.0268547116532921791,0.04516187310218811,0.0447869710624218,0.04437496140599251,0.044106412678956985,0.04388008639216423, 0.043647997081279755,0.04342963173985481, 0.043125446885824203,0.042833320796489716,0.04252931475639343,0.04222908243536949,0.04186974838376045,0.04150994122028351,0.04116779565811157,0.040843311697244644,0.04053395614027977,0.040212199091911316,0.03988610580563545,0.03951621428132057,0.0391649454832077,0.03879501298069954,0.03842513635754585,0.03805358707904816,0.03767082467675209,0.03730294480919838,0.03698078542947769,0.03685123473405838,0.03654300421476364,0.03632756322622299,0.03600756824016571,0.03574006259441376\n",
      "Epoch 3/20\n",
      "34/34 [==============================] - 2s 67ms/step - loss: 0.0226 - val_loss: 0.01935962581858038902,0.025620611384510994,0.025501137599349022,0.02533384971320629,0.02517862617969513,0.025030892342329025,0.024944469332695007,0.024845875799655914,0.024741007015109062,0.0246326494961977,0.02449427731335163,0.02438618242740631,0.024254560470581055,0.02413002774119377,0.024022812023758888,0.023915013298392296,0.023838913068175316,0.023755788803100586,0.023673897609114647,0.023575956001877785,0.023491088300943375,0.023409858345985413,0.023329490795731544,0.023246509954333305,0.023164603859186172,0.02309943363070488,0.023027220740914345,0.0229460708796978,0.02286130003631115,0.022772882133722305,0.022673502564430237,0.02259652130305767\n",
      "Epoch 4/20\n",
      "34/34 [==============================] - 2s 70ms/step - loss: 0.0165 - val_loss: 0.012718975580111145973,0.01881212554872036,0.018705002963542938,0.01854276843369007,0.01845223642885685,0.018351025879383087,0.018278231844305992,0.01818355731666088,0.018073314800858498,0.01798742637038231,0.01785571128129959,0.01774446666240692,0.01760982535779476,0.01748400181531906,0.017370551824569702,0.017256738618016243, - ETA: 0s - loss: 0.01730.017160341143608093,0.01709049567580223,0.017112113535404205,0.017198452726006508,0.01707892306149006,0.017090708017349243,0.017059555277228355,0.016988368704915047,0.016958773136138916,0.01690051704645157,0.016829941421747208,0.016778970137238503,0.016678547486662865,0.01663779281079769,0.016519783064723015,0.016480255872011185\n",
      "Epoch 5/20\n",
      "34/34 [==============================] - 2s 67ms/step - loss: 0.0113 - val_loss: 0.009713309900648891926,0.01321385521441698,0.013169046491384506,0.013042815960943699,0.012935278937220573,0.012879854999482632,0.012743729166686535,0.012713177129626274,0.01258385181427002,0.012515026144683361,0.012387856841087341,0.012375649996101856,0.012274036183953285,0.01217469573020935,0.012090122327208519,0.011959689669311047,0.011880945414304733,0.011807842180132866,0.011706771329045296,0.011642848141491413,0.011739416047930717,0.011832461692392826,0.011737886816263199,0.011636867187917233,0.011620216071605682,0.011609396897256374,0.01164319645613432,0.011551758274435997,0.011517943814396858,0.011472324840724468,0.01136135682463646,0.0113156046718359\n",
      "Epoch 6/20\n",
      "34/34 [==============================] - 2s 70ms/step - loss: 0.0096 - val_loss: 0.0088009312509559094906,0.009148698300123215,0.00933197233825922,0.009061386808753014,0.008917663246393204,0.008900787681341171,0.00867213774472475,0.008511296473443508,0.008554595522582531,0.008570713922381401,0.008421487174928188,0.008273877203464508,0.00823567621409893,0.008310993202030659,0.008519069291651249,0.008444610983133316,0.008713128976523876,0.008784186094999313,0.009003176353871822,0.009333019144833088,0.009248393587768078,0.009469675831496716,0.009790056385099888,0.009670822881162167,0.009764245711266994,0.009813560172915459,0.00979514978826046,0.00978002417832613,0.009685893543064594,0.009631695225834846,0.00964532233774662,0.009580323472619057\n",
      "Epoch 7/20\n",
      "34/34 [==============================] - 2s 68ms/step - loss: 0.0105 - val_loss: 0.006909361029602587223,0.010168853215873241,0.011407502926886082,0.01071072369813919,0.011999673210084438,0.013134529814124107,0.013350063003599644,0.013402105309069157,0.013270656578242779,0.01311617624014616,0.013521724380552769,0.013495540246367455,0.013212662190198898,0.013212396763265133,0.012895582243800163,0.012765942141413689,0.012600254267454147,0.012368730269372463,0.012271285988390446,0.012009925208985806,0.011900299228727818,0.011776966042816639,0.011576484888792038,0.011474348604679108,0.011301403865218163,0.011186923831701279,0.011060570366680622,0.010924753732979298,0.010826757177710533,0.010675525292754173,0.010581516660749912,0.010470009408891201\n",
      "Epoch 8/20\n",
      "34/34 [==============================] - 2s 68ms/step - loss: 0.0051 - val_loss: 0.003806583620328456163,0.006594496313482523,0.006427466869354248,0.006401157006621361,0.0062708500772714615,0.006231290753930807,0.006132255773991346,0.006069323047995567,0.006000283174216747,0.005914533510804176,0.005865838844329119,0.005778273101896048,0.005717055406421423,0.005679624620825052,0.005613031797111034,0.005545523948967457,0.005510367918759584,0.005488657392561436,0.005445660091936588,0.005384826101362705,0.005330917425453663,0.005277934484183788,0.005239727441221476,0.005230266600847244,0.005219209473580122,0.005224605556577444,0.005223131272941828,0.0051762922666966915,0.005128286778926849,0.00508755911141634,0.005107209086418152,0.005115451756864786\n",
      "Epoch 9/20\n",
      "34/34 [==============================] - 2s 69ms/step - loss: 0.0083 - val_loss: 0.012004636049270629883,0.0043529062531888485,0.004479753319174051,0.0043572415597736835,0.0042823683470487595,0.004328460432589054,0.00438975915312767,0.004295458551496267,0.004209162667393684,0.004225460812449455,0.004227169789373875,0.004185138735920191,0.004328964743763208,0.004377197008579969,0.004469928797334433,0.004680723417550325,0.005032638553529978,0.004938048776239157,0.0053262654691934586,0.005612650886178017,0.005781826097518206,0.006231529638171196,0.006561584305018187,0.006867069751024246,0.007154279854148626,0.007400296162813902,0.0072718397714197636,0.007519200909882784,0.007809847593307495,0.008104146458208561,0.008249461650848389,0.008294378407299519\n",
      "Epoch 10/20\n",
      "34/34 [==============================] - 2s 67ms/step - loss: 0.0077 - val_loss: 0.004611255304329097271,0.010115300305187702,0.010191562585532665,0.009843605570495129,0.009234334342181683,0.009084228426218033,0.009434310719370842,0.009549523703753948,0.009271819144487381,0.009253793396055698,0.009250632487237453,0.009348729625344276,0.009286447428166866,0.009273108094930649,0.009174649603664875,0.009158557280898094,0.0090499771758914,0.008934101089835167,0.008834997192025185,0.008771209046244621,0.00871817022562027,0.008552957326173782,0.008472133427858353,0.008455275557935238,0.008374687284231186,0.008241429924964905,0.008167503401637077,0.008087298832833767,0.007980236783623695,0.007889784872531891,0.0078084347769618034,0.0077302297577261925\n",
      "Epoch 11/20\n",
      "34/34 [==============================] - 2s 68ms/step - loss: 0.0037 - val_loss: 0.0029046546910889446735,0.004483436234295368,0.004486072808504105,0.004488446284085512,0.004364176653325558,0.004348005633801222,0.004281841218471527,0.004228986334055662,0.004193972330540419,0.004132074769586325,0.004104128573089838,0.004050486721098423,0.004022612236440182,0.003981729969382286,0.003962064161896706,0.003932544961571693,0.003919308539479971,0.003907527308911085,0.0038963654078543186,0.003891127882525325,0.0038910447619855404,0.0038920645602047443,0.003913450054824352,0.0038886666297912598,0.0038946433924138546,0.003873082809150219,0.0038458288181573153,0.0038310294039547443,0.0038044883403927088,0.00377260847017169,0.0037581210490316153,0.0037302253767848015\n",
      "Epoch 12/20\n",
      "34/34 [==============================] - 2s 69ms/step - loss: 0.0028 - val_loss: 0.00280029183069709688425,0.002840417204424739,0.0028444435447454453,0.0028916874434798956,0.002879832172766328,0.0028391166124492884,0.002803449984639883,0.0028003649786114693,0.002797282300889492,0.00279312115162611,0.0027768153231590986,0.0027605241630226374,0.0027484430465847254,0.0027372585609555244,0.0027388823218643665,0.0027479103300720453,0.002753727836534381,0.0027476935647428036,0.0027446788735687733,0.002743138000369072,0.00275211688131094,0.0027532593812793493,0.002753507811576128,0.0027564233168959618,0.0027602387126535177,0.0027627702802419662,0.002762561198323965,0.002759309718385339,0.0027623334899544716,0.002765440149232745,0.002761269686743617,0.0027620531618595123\n",
      "Epoch 13/20\n",
      "34/34 [==============================] - 2s 70ms/step - loss: 0.0026 - val_loss: 0.0026027144195046275854,0.0027414518408477306,0.002738575218245387,0.00272998190484941,0.0027352902106940746,0.0027239862829446793,0.0027214984875172377,0.0027098949067294598,0.0026989781763404608,0.002703542821109295,0.0027022291906177998,0.0026855599135160446,0.0026760934852063656,0.002683667466044426,0.002673856681212783,0.0026657909620553255,0.002671152586117387,0.0026689316146075726,0.0026640037540346384,0.0026588349137455225,0.002657443517819047,0.002656348282471299,0.0026562504936009645,0.002654957352206111,0.0026492122560739517,0.0026476397179067135,0.002650550566613674,0.0026422555092722178,0.002637965604662895,0.002641489263623953,0.002636925084516406,0.0026342198252677917\n",
      "Epoch 14/20\n",
      "34/34 [==============================] - 2s 68ms/step - loss: 0.0024 - val_loss: 0.00240025254013016819954,0.0025288613978773355,0.00251790601760149,0.002521530259400606,0.0025263617280870676,0.002503502182662487,0.0024947321508079767,0.0024982125032693148,0.0024869355838745832,0.0024852280039340258,0.0024855120573192835,0.002473201137036085,0.0024653461296111345,0.0024695913307368755,0.0024636946618556976,0.002459009410813451,0.002461716067045927,0.002459392650052905,0.0024551646783947945,0.0024508268106728792,0.0024487939663231373,0.002448008395731449,0.0024485792964696884,0.0024458393454551697,0.0024405152071267366,0.0024405375588685274,0.002443959703668952,0.0024350984022021294,0.002429098589345813,0.0024336804635822773,0.0024300722870975733,0.002426637802273035\n",
      "Epoch 15/20\n",
      "34/34 [==============================] - 2s 68ms/step - loss: 0.0022 - val_loss: 0.00220023317288141697645,0.002333027310669422,0.0023186802864074707,0.002323854947462678,0.0023326624650508165,0.0023097239900380373,0.0023007679264992476,0.0023072510957717896,0.002297069178894162,0.0022934777662158012,0.0022947106044739485,0.00228447699919343,0.00227463711053133,0.002277892781421542,0.0022756673861294985,0.0022718561813235283,0.0022717094980180264,0.0022697069216519594,0.002266903407871723,0.002263343194499612,0.0022624062839895487,0.002261516870930791,0.0022616186179220676,0.002260437235236168,0.0022559398785233498,0.0022556036710739136,0.002258207881823182,0.0022517547477036715,0.0022483807988464832,0.0022513926960527897,0.002247433178126812,0.002245020354166627\n",
      "Epoch 16/20\n",
      "34/34 [==============================] - 2s 70ms/step - loss: 0.0021 - val_loss: 0.0021021488191559910774,0.002159307012334466,0.002150146057829261,0.0021527826320379972,0.0021590276155620813,0.002139788120985031,0.002133306348696351,0.0021371508482843637,0.002128227148205042,0.002127094427123666,0.002128489315509796,0.0021192363929003477,0.0021079936996102333,0.0021094558760523796,0.0021119117736816406,0.0021079631987959146,0.002103834878653288,0.0021037927363067865,0.0021042220760136843,0.0021001864224672318,0.0020972220227122307,0.0020980294793844223,0.002099931938573718,0.002097400138154626,0.0020923104602843523,0.0020925160497426987,0.002095995005220175,0.0020902736578136683,0.002086428226903081,0.002089196350425482,0.0020866577979177237,0.002084555337205529\n",
      "Epoch 17/20\n",
      "34/34 [==============================] - 2s 69ms/step - loss: 0.0019 - val_loss: 0.0020002001472981646657,0.002007863949984312,0.001994077581912279,0.002000565407797694,0.00201234663836658,0.001990379299968481,0.0019778741989284754,0.001987312687560916,0.001983985072001815,0.0019809070508927107,0.001979761989787221,0.0019751444924622774,0.001966597745195031,0.001965566538274288,0.001968220341950655,0.0019668214954435825,0.001963087823241949,0.0019623152911663055,0.0019621525425463915,0.0019599308725446463,0.0019584971014410257,0.001958681968972087,0.0019587918650358915,0.001957538304850459,0.0019544486422091722,0.001954850275069475,0.001956618158146739,0.001951914164237678,0.0019500174093991518,0.0019525005482137203,0.0019486895762383938,0.0019469857215881348\n",
      "Epoch 18/20\n",
      "34/34 [==============================] - 2s 69ms/step - loss: 0.0018 - val_loss: 0.0017018654947634786367,0.0018737765494734049,0.0018695706967264414,0.0018723639659583569,0.001876325230114162,0.0018620203481987119,0.0018569477833807468,0.0018586675869300961,0.001851659850217402,0.0018543732585385442,0.001855459064245224,0.0018470670329406857,0.0018343129195272923,0.0018333893967792392,0.0018413271754980087,0.0018369508907198906,0.0018295891350135207,0.001830108929425478,0.0018343133851885796,0.001830351073294878,0.001826046616770327,0.0018267740961164236,0.001831141416914761,0.0018287599086761475,0.0018230767454952002,0.0018227850086987019,0.0018286064732819796,0.0018237661570310593,0.0018187282839789987,0.001820709789171815,0.001821713405661285,0.0018196827732026577\n",
      "Epoch 19/20\n",
      "34/34 [==============================] - 2s 69ms/step - loss: 0.0017 - val_loss: 0.00170017656810814514756,0.0017541415290907025,0.001719463849440217,0.0017300535691902041,0.001762698288075626,0.0017356832977384329,0.0017087938031181693,0.0017116443486884236,0.001731196534819901,0.001726578688248992,0.0017172781517729163,0.0017176585970446467,0.0017214437248185277,0.001716436119750142,0.0017138108378276229,0.0017218998400494456,0.0017199366120621562,0.0017155326204374433,0.0017145770834758878,0.0017196285771206021,0.0017175296088680625,0.0017147524049505591,0.001716328551992774,0.0017194472020491958,0.0017157462425529957,0.0017139619449153543,0.0017171524232253432,0.0017157678958028555,0.0017142798751592636,0.0017148107290267944,0.0017126130405813456,0.001713522826321423\n",
      "Epoch 20/20\n",
      "34/34 [==============================] - 2s 72ms/step - loss: 0.0016 - val_loss: 0.0016001635108725167811,0.0016548981657251716,0.0016505455132573843,0.0016505549428984523,0.0016544843092560768,0.0016485569067299366,0.0016456340672448277,0.001643054885789752,0.001635769964195788,0.0016411988763138652,0.0016427638474851847,0.0016355059342458844,0.0016229449538514018,0.001620844122953713,0.0016304519958794117,0.0016256013186648488,0.0016167695866897702,0.0016157637583091855,0.0016225121216848493,0.0016178067307919264,0.0016120803775265813,0.0016111894510686398,0.0016185379354283214,0.001614833832718432,0.0016069648554548621,0.001602460746653378,0.001607656478881836,0.00160953716840595,0.0016058116452768445,0.0016052601858973503,0.0016061477363109589,0.001606615143828094\n",
      "Finished training on 97 after 48.559727907180786 seconds\n",
      "Finished job on after 48.56073021888733 seconds\n"
     ]
    },
    {
     "ename": "AttributeError",
     "evalue": "'LossHistory' object has no attribute 'losses'",
     "output_type": "error",
     "traceback": [
      "\u001b[1;31m---------------------------------------------------------------------------\u001b[0m",
      "\u001b[1;31mAttributeError\u001b[0m                            Traceback (most recent call last)",
      "\u001b[1;32m<ipython-input-43-a28be9c80800>\u001b[0m in \u001b[0;36m<module>\u001b[1;34m\u001b[0m\n\u001b[0;32m      8\u001b[0m \u001b[1;33m\u001b[0m\u001b[0m\n\u001b[0;32m      9\u001b[0m \u001b[0mprint\u001b[0m\u001b[1;33m(\u001b[0m\u001b[1;34m\"Finished job on after %s seconds\"\u001b[0m \u001b[1;33m%\u001b[0m \u001b[1;33m(\u001b[0m\u001b[0mtime\u001b[0m\u001b[1;33m.\u001b[0m\u001b[0mtime\u001b[0m\u001b[1;33m(\u001b[0m\u001b[1;33m)\u001b[0m\u001b[1;33m-\u001b[0m\u001b[0mstart\u001b[0m\u001b[1;33m)\u001b[0m\u001b[1;33m)\u001b[0m\u001b[1;33m\u001b[0m\u001b[1;33m\u001b[0m\u001b[0m\n\u001b[1;32m---> 10\u001b[1;33m \u001b[0mhealthy_losses\u001b[0m \u001b[1;33m=\u001b[0m \u001b[0mlossHistory\u001b[0m\u001b[1;33m.\u001b[0m\u001b[0mlosses\u001b[0m\u001b[1;33m\u001b[0m\u001b[1;33m\u001b[0m\u001b[0m\n\u001b[0m",
      "\u001b[1;31mAttributeError\u001b[0m: 'LossHistory' object has no attribute 'losses'"
     ]
    }
   ],
   "source": [
    "file_ids = pd.unique(df_healthy.iloc[:,1])\n",
    "start = time.time()\n",
    "for file_id in file_ids:\n",
    "    recording_trimmed = create_trimmed_recording(df_healthy,file_id)\n",
    "    print(\"Staring training on %s\" % (file_id))\n",
    "    train(recording_trimmed)\n",
    "    print(\"Finished training on %s after %s seconds\" % (file_id,time.time()-start))\n",
    "\n",
    "print(\"Finished job on after %s seconds\" % (time.time()-start))\n",
    "healthy_losses = lr.losses"
   ]
  },
  {
   "cell_type": "code",
   "execution_count": 44,
   "metadata": {},
   "outputs": [],
   "source": [
    "healthy_losses = lr.losses"
   ]
  },
  {
   "cell_type": "code",
   "execution_count": 52,
   "metadata": {},
   "outputs": [
    {
     "data": {
      "text/plain": [
       "[<matplotlib.lines.Line2D at 0x22ecfe0d820>]"
      ]
     },
     "execution_count": 52,
     "metadata": {},
     "output_type": "execute_result"
    },
    {
     "data": {
      "image/png": "[encoded data removed]",
      "text/plain": [
       "<Figure size 1600x800 with 1 Axes>"
      ]
     },
     "metadata": {},
     "output_type": "display_data"
    }
   ],
   "source": [
    "fig, ax = plt.subplots(num=None, figsize=(20, 10), dpi=80, facecolor='w', edgecolor='k')\n",
    "size = len(healthy_losses)\n",
    "plt.ylim(0,0.03)\n",
    "ax.plot(range(0,size), healthy_losses, '-', color='blue', animated = True, linewidth=1)"
   ]
  },
  {
   "cell_type": "code",
   "execution_count": 54,
   "metadata": {},
   "outputs": [
    {
     "name": "stdout",
     "output_type": "stream",
     "text": [
      "Staring training on 203\n",
      "Epoch 1/20\n",
      "68/68 [==============================] - 4s 60ms/step - loss: 0.0022 - val_loss: 0.00190018391808262094855,0.001871961634606123,0.0018517866265028715,0.001851283828727901, 0.0018643122166395187,0.001846983446739614,0.0018507972126826644,0.0018546415958553553,0.001860351301729679, 0.0018947042990475893,0.0018844399601221085, 0.0018797594821080565,0.0018669113051146269, 0.0018599035684019327,0.00184910767711699,0.001853695954196155, 0.0018522789468988776,0.0018487219931557775, 0.0018601450137794018,0.0018601627089083195,0.0018567766528576612, 0.001869287109002471,0.0018601716728881001, 0.0018576565198600292,0.0018515174742788076,0.0018543947953730822,0.0018468862399458885,0.00185195985250175,0.0018468520138412714,0.0018415219383314252, 0.0018496147822588682,0.0018517653224989772, 0.0018630707636475563,0.001864745980128646, 0.0018913173116743565,0.001909926999360323,0.0019133428577333689, 0.0019300071289762855,0.0019358613062649965, 0.0019418437732383609,0.0019583520479500294,0.0019502862123772502, 0.001955219078809023,0.001984202302992344,0.001983414636924863,0.001996576553210616,0.0019992226734757423,0.002012933837249875,0.0020157371181994677,0.002026343485340476,0.002025862457230687,0.0020502700936049223,0.002071917289867997, 0.0020713729318231344,0.0020840230863541365,0.0020835085306316614,0.0020968522876501083,0.0021151790861040354,0.0021137120202183723,0.0021296385675668716,0.0021449467167258263,0.0021409844048321247, 0.0021448147017508745,0.002146148821339011,0.0021593570709228516, 0.0021678004413843155\n",
      "Epoch 2/20\n",
      "68/68 [==============================] - 4s 64ms/step - loss: 0.0022 - val_loss: 0.0015.0027132912073284388,0.0025428023654967546, 0.002597605111077428,0.0025152815505862236,0.0025455246213823557, 0.002581941895186901,0.0025043031200766563, 0.002520872512832284,0.002496190834790468,0.0024992257822304964, 0.0025008926168084145,0.002462229924276471,0.0024613600689917803, 0.002442462369799614,0.0024508624337613583,0.0024766551796346903,0.00244791223667562,0.0024702600203454494,0.002468561753630638,0.0024638157337903976,0.002463663462549448,0.0024412120692431927,0.0024246431421488523,0.002413693116977811,0.002390164416283369,0.00239262031391263,0.0023785093799233437,0.002379041165113449,0.002372513758018613,0.002371101174503565,0.0023666482884436846,0.002366176573559642,0.0023603588342666626,0.0023559818509966135,0.002345664892345667,0.0023459186777472496,0.002345931250602007, 0.0023388895206153393,0.0023292338009923697,0.002327762311324477,0.0023208793718367815,0.002321091014891863,0.002316936617717147,0.002340244594961405,0.0023432255256921053,0.0023280202876776457,0.0023198279086500406,0.002310587093234062,0.002293633995577693,0.002294935053214431,0.002284091664478183,0.0022933895234018564,0.002299277577549219,0.0022910847328603268,0.0022911992855370045, 0.0022756534162908792,0.002264736220240593,0.0022582574747502804, 0.0022437889128923416,0.0022451188415288925,0.002236206317320466,0.0022436128929257393,0.0022470075637102127, 0.0022407451178878546,0.0022392887622117996,0.002233693143352866,\n",
      "Epoch 3/20\n",
      "68/68 [==============================] - 4s 66ms/step - loss: 0.0019 - val_loss: 0.0013.0018200367921963334,0.002024203073233366,0.0021323927212506533,0.002050258917734027,0.0020290499087423086,0.0019886598456650972,0.0019208404701203108,0.0019577995408326387,0.0019384128972887993,0.0019984508398920298,0.0020403037779033184,0.002005341462790966,0.002006552182137966,0.0019655770156532526,0.0019301010761409998,0.0019294420490041375,0.001897434238344431,0.0019197631627321243,0.0019089742563664913,0.001926364959217608,0.001932375831529498,0.0019342276500537992,0.0019366060150787234,0.001930838800035417,0.0019176466157659888,0.0019281134009361267,0.001924647018313408,0.0019346362678334117,0.0019459128379821777,0.0019329009810462594, 0.0019250012701377273,0.001924108830280602,0.0019108547130599618,0.0019172343891113997,0.0019113818416371942,0.0019139050273224711,0.001914729131385684,0.0019159595249220729,0.0019143469398841262,0.0019118412164971232,0.0019049993716180325,0.001911220490001142,0.001911323401145637,0.0019364252220839262,0.0019448987441137433,0.001934210886247456, 0.0019373988034203649,0.0019270727643743157, 0.0019285797607153654,0.0019352830713614821, 0.0019250885816290975,0.0019308722112327814,0.0019264081493020058,0.0019212240586057305,0.001917932997457683,0.0019072203431278467,0.0018972591497004032,0.0018951292149722576,0.0018879027338698506,0.001884228433482349,0.0018843309953808784,0.0018767932197079062,0.0018694091122597456,0.0018614582950249314,0.0018534940900281072,0.0018507774220779538,\n",
      "Epoch 4/20\n",
      "68/68 [==============================] - 5s 67ms/step - loss: 0.0014 - val_loss: 0.0011.0015663804952055216,0.001551857334561646,0.001545626437291503,0.0015005297027528286,0.0014572866493836045,0.0014887050492689013,0.0014837922062724829,0.0014994846424087882,0.0015186977107077837,0.0015160463517531753,0.0015053959796205163,0.001492414972744882,0.0014819244388490915,0.0014844019897282124,0.0014708961825817823,0.0015009072376415133,0.0015118415467441082,0.0015105045167729259,0.0015090210363268852,0.0014969798503443599,0.0014860319206491113,0.0014925432624295354,0.0014796280302107334,0.0014919837703928351,0.0015035520773380995,0.0014962281566113234,0.0014902347465977073,0.0014923715498298407,0.001483882195316255,0.001487158122472465,0.0014905696734786034,0.0014946652809157968,0.0014944253489375114,0.0014889691956341267,0.0014814716996625066,0.001480831066146493,0.0014852704480290413,0.0014842230593785644,0.0014809665735810995,0.0014792155707255006,0.001477855141274631,0.0014811132568866014,0.0014799603959545493,0.0015041325241327286,0.0015044737374410033,0.0015011518262326717,0.001498701865784824,0.0014946969458833337,0.0014862832613289356,0.0014868705766275525,0.001483395928516984,0.001490010879933834,0.0014948613243177533,0.0014895293861627579,0.0014889937592670321,0.0014803399099037051,0.001477905665524304,0.0014730214606970549,0.0014668203657492995,0.001462880871258676,0.0014566585887223482,0.0014523444697260857,0.0014488456072285771,0.001443200628273189,0.0014396259794011712,0.001437366590835154,\n",
      "Epoch 5/20\n",
      "68/68 [==============================] - 5s 70ms/step - loss: 0.0013 - val_loss: 0.0013001144415931776166,0.001121556619182229,0.0011242527980357409,0.001136745442636311,0.00112664676271379,0.0011474317871034145,0.001144705107435584,0.001135274302214384,0.0011568859918043017,0.0011687522055581212,0.001174318604171276,0.0011686703655868769,0.0011798423947766423,0.001179625280201435,0.001168738817796111,0.0011794815072789788,0.0011816476471722126,0.0011790355201810598,0.0011820810614153743,0.0011901266407221556,0.0011846504639834166,0.0011988339247182012,0.0011935329530388117,0.0011980734998360276,0.0012011309154331684,0.0011982506839558482,0.0012086003553122282,0.001202322542667389,0.0012007696786895394,0.001202109968289733,0.0012002699077129364,0.0011952011846005917,0.0011891248868778348,0.0011880605015903711,0.0011810334399342537,0.0011739004403352737,0.0011809061979874969,0.001176978345029056,0.0011835030745714903,0.0011800595093518496,0.0011872869217768312,0.0011884159175679088,0.0011988909682258964,0.0012381102424114943,0.0012316423235461116,0.001242228550836444,0.0012482311576604843,0.0012543591437861323,0.0012611510464921594,0.0012562783667817712,0.0012620611814782023,0.0012613445287570357,0.0012719022342935205,0.0012815678492188454,0.0012775971554219723,0.0012829937040805817,0.0012829613406211138,0.0012885649921372533,0.001298353192396462,0.0012950849486514926,0.00130368210375309,0.0013111744774505496,0.0013096941402181983,0.0013099529314786196,0.0013120063813403249,0.0013106751721352339,\n",
      "Epoch 6/20\n",
      "68/68 [==============================] - 5s 68ms/step - loss: 0.0016 - val_loss: 0.00210013716488610953093,0.001479566446505487,0.0016371107194572687,0.0016009295359253883, 0.0016179914819076657,0.0015696415212005377,0.0015562259359285235,0.0015318337827920914,0.0015198428882285953,0.0015365424333140254,0.0015480236615985632,0.0015795596409589052,0.0016015633009374142,0.0015721190720796585,0.0015890063950791955,0.0015696737682446837,0.0016107537085190415,0.001654487568885088,0.0016336058033630252,0.0016535926843062043,0.0016590777086094022,0.0016345743788406253,0.0016394868725910783,0.001626914250664413,0.0016158574726432562,0.001619835733436048,0.0016025010263547301,0.0015937450807541609,0.0015854178927838802,0.0015730903251096606,0.0015751569299027324,0.0015721902018412948,0.0015584351494908333,0.0015524651389569044,0.001543840509839356,0.0015405595768243074,0.00154206866864115,0.0015561984619125724,0.0015620209742337465,0.0015524157788604498,0.0015532220713794231,0.0015400571282953024,0.001541624078527093,0.0015634680166840553,0.0015594636788591743,0.0015623403014615178,0.0015665411483496428,0.0015635406598448753,0.0015659438213333488,0.001559385214932263,0.0015620156191289425,0.0015591563424095511,0.0015544788911938667,0.0015555133577436209,0.0015550019452348351,0.001555801834911108,0.0015610703267157078,0.0015565614448860288,0.0015575436409562826,0.001552057801745832,0.0015486972406506538,0.001548880711197853,0.00154591363389045,0.0015490910736843944,0.0015574224526062608,0.0015534268459305167,\n",
      "Epoch 7/20\n",
      "68/68 [==============================] - 5s 69ms/step - loss: 0.0015 - val_loss: 0.0016017890488961711526,0.001741896034218371,0.0016731192590668797,0.001613057334907353,0.0016124800313264132,0.0015703932149335742,0.001597838825546205,0.001602054457180202,0.001597906113602221,0.0015932872192934155,0.00157963577657938,0.0015568045200780034,0.0015711878659203649,0.0015718674985691905,0.001572882873006165,0.0015719361836090684,0.0015625932719558477,0.0015525692142546177,0.001554817077703774,0.00154642213601619,0.001554923364892602,0.0015611295821145177,0.001555589959025383,0.0015466634649783373,0.0015478295972570777,0.0015432019717991352,0.0015475184191018343,0.0015488822245970368,0.0015447771875187755,0.0015397516544908285,0.0015412458451464772,0.001538226380944252,0.0015426038298755884,0.001542353886179626,0.0015393192879855633,0.001533977105282247,0.0015366873703897,0.00153433030936867,0.0015347074950113893,0.001533681177534163,0.0015323413535952568,0.001528546097688377,0.0015307115390896797,0.0015534887788817286,0.0015495020197704434,0.0015438752016052604,0.0015449878992512822,0.0015404783189296722,0.0015432857908308506,0.001544738421216607,0.0015413574874401093,0.00153724302072078,0.0015381682896986604,0.0015344938728958368,0.0015373759670183063,0.0015381821431219578,0.001533895148895681,0.0015289837028831244,0.001528801629319787,0.0015253404853865504,0.0015286055859178305,0.0015295195626094937,0.0015269470168277621,0.0015237780753523111,0.001523601938970387,0.0015212538419291377,\n",
      "Epoch 8/20\n",
      "68/68 [==============================] - 5s 68ms/step - loss: 0.0014 - val_loss: 0.0014.0015060360310599208,0.0014714247081428766,0.0014755199663341045,0.0014458647929131985,0.001467476598918438,0.001467402558773756,0.001458033686503768,0.0014427893329411745,0.001446684473194182,0.0014367238618433475,0.0014427456771954894,0.001442180946469307,0.001438989769667387,0.0014319238252937794,0.0014325986849144101,0.0014244324993342161,0.0014293261338025331,0.0014316451270133257,0.0014285733923316002,0.0014222845202311873,0.0014239373849704862,0.001421289867721498,0.0014254981651902199,0.001424234826117754,0.0014214522670954466,0.0014170503709465265,0.0014181837905198336,0.0014146565226837993,0.001416713115759194,0.001416479703038931,0.0014157058903947473,0.001413892605341971,0.0014142615254968405,0.0014089506585150957,0.001411275821737945,0.0014101683627814054,0.0014110258780419827,0.001409298973158002,0.0014071018667891622,0.0014027785509824753,0.0014048172160983086,0.001403739326633513,0.0014041864778846502,0.0014258959563449025,0.0014212619280442595,0.0014149569906294346,0.0014159437268972397,0.0014106885064393282,0.0014143302105367184,0.0014158010017126799,0.0014139730483293533,0.0014123608125373721,0.0014108652248978615,0.001405637594871223,0.0014089730102568865,0.001409103162586689,0.0014068962773308158,0.0014050127938389778,0.0014022323302924633,0.001397266169078648,0.001400788314640522,0.001400733832269907,0.0014002489624544978,0.0013993293978273869,0.0013978705974295735,0.0013957158662378788,\n",
      "Epoch 9/20\n",
      "68/68 [==============================] - 5s 72ms/step - loss: 0.0013 - val_loss: 0.0013001365149044431746,0.001390355988405645,0.0013615927891805768,0.0013295580865815282,0.0013372566318139434, - ETA: 2s - loss: 0.00130.0013170483289286494,0.0013345228508114815,0.0013396050781011581,0.0013311757938936353,0.0013195557985454798,0.0013201627880334854,0.0013097724877297878,0.0013199561508372426,0.001323674339801073,0.0013187583535909653,0.0013103769160807133,0.0013127907877787948,0.0013107621343806386,0.0013129387516528368,0.0013106055557727814,0.001311365864239633,0.0013101788936182857,0.0013117820490151644,0.0013078551273792982,0.0013082533841952682,0.0013063052901998162,0.0013068511616438627,0.0013043034123256803,0.0013046428794041276,0.0013022335479035974,0.0013041640631854534,0.0013043826911598444,0.0013041415950283408,0.0012995743891224265,0.0013008321402594447,0.0012983871856704354,0.0013011920964345336,0.0013011652044951916, - ETA: 1s - loss: 0.00130.0012983916094526649,0.0012944898335263133,0.0012958016013726592,0.001293726498261094,0.0012954242993146181,0.0013173246989026666,0.0013129831058904529,0.001307887490838766,0.0013078894698992372,0.0013021636987105012,0.0013054810697212815,0.0013055249582976103,0.0013061868958175182,0.0013071123976260424,0.0013042415957897902,0.001299070892855525,0.0013010217808187008,0.0012986768269911408,0.0012996898731216788,0.00129960966296494,0.0012976379366591573,0.0012950992677360773,0.0012962950859218836,0.0012945508351549506,0.001295069931074977,0.0012941043823957443,0.0012938500149175525,0.0012925848131999373,\n",
      "Epoch 10/20\n",
      "68/68 [==============================] - 5s 69ms/step - loss: 0.0012 - val_loss: 0.00130012381175765767694,0.001242967788130045,0.001248863060027361,0.0012373937061056495,0.0012380242114886642,0.0012221494689583778,0.0012306401040405035,0.0012254408793523908,0.0012294416083022952, - ETA: 2s - loss: 0.00120.0012257264461368322,0.0012255178298801184,0.0012196274474263191,0.0012224966194480658,0.0012191651621833444,0.0012207324616611004,0.0012156376615166664,0.0012189067201688886,0.0012203307123854756,0.001218126155436039,0.001212174422107637,0.0012154127471148968,0.0012147797970101237,0.0012178467586636543,0.0012166410451754928,0.0012146878289058805,0.0012115325080230832,0.0012122676707804203,0.001208728994242847,0.0012111846590414643,0.0012110876850783825,0.0012113862903788686,0.0012108583468943834,0.0012109309900552034,0.0012065090704709291,0.0012080762535333633,0.001205955632030964,0.0012089714873582125,0.0012095313286408782,0.001206454006023705,0.00120266480371356,0.0012036521220579743,0.001201155479066074,0.0012033439707010984,0.0012251471634954214,0.0012212188448756933,0.0012167221866548061,0.0012165226507931948,0.0012111518299207091,0.0012136463774368167,0.001212407136335969,0.0012147151865065098,0.001217226730659604,0.0012135431170463562,0.0012091483222320676,0.001209164154715836,0.001204563770443201,0.001207107910886407,0.0012071899836882949, 0.001206612796522677,0.0012061891611665487,0.0012057244312018156,0.001203947700560093,0.0012028958881273866,0.0011995810782536864,0.0012007745681330562,0.0011994437081739306,\n",
      "Epoch 11/20\n",
      "68/68 [==============================] - 5s 72ms/step - loss: 0.0011 - val_loss: 0.00120011881504906341434,0.0011643077014014125,0.0011516495142132044,0.0011179904686287045,0.0011303905630484223,0.0011108641047030687,0.0011305074440315366,0.0011329492554068565,0.0011368603445589542,0.0011371382279321551,0.0011322592617943883,0.0011226078495383263,0.0011269183596596122,0.0011208566138520837,0.0011302036000415683,0.0011337797623127699,0.0011297601740807295,0.0011281593469902873,0.0011261987965554,0.0011183861643075943,0.001123848487623036,0.0011237974977120757,0.001128579257056117,0.0011296315351501107,0.0011267157969996333,0.0011242111213505268,0.0011233114637434483,0.0011171798687428236,0.0011221794411540031,0.0011231955140829086,0.0011245369678363204,0.0011259140446782112,0.0011245141504332423,0.0011194219114258885,0.001121247187256813,0.00111857068259269,0.0011232843389734626,0.0011258162558078766,0.001121597713790834,0.0011178358690813184,0.0011182912858203053,0.0011145730968564749,0.001118507469072938,0.001140833250246942,0.001137340790592134,0.001134250545874238,0.001133337733335793, - ETA: 1s - loss: 0.00110.0011281046317890286,0.0011304565705358982,0.0011287783272564411,0.0011318640317767859, - ETA: 0s - loss: 0.00110.0011349109699949622,0.0011315278243273497,0.001127817202359438,0.0011274979915469885,0.0011228794464841485,0.0011252338299527764,0.0011244850466027856,0.001125454786233604,0.0011263288324698806,0.0011254295241087675,0.0011239792220294476,0.0011227014474570751,0.0011190566001459956,0.0011211637174710631,0.0011203390313312411,\n",
      "Epoch 12/20\n",
      "68/68 [==============================] - 5s 73ms/step - loss: 0.0011 - val_loss: 0.001001116096624173224,0.0010806805221363902,0.0010862877825275064,0.0010580021189525723,0.001080934191122651,0.0010772828245535493,0.001085073919966817,0.0010874426225200295,0.0010811106767505407,0.0010724385501816869,0.0010715348180383444,0.0010602012043818831,0.0010706395842134953,0.0010731873335316777,0.0010732674272730947,0.0010702896397560835,0.0010700317798182368,0.0010677556274458766,0.0010692814830690622,0.001065925695002079,0.0010686113964766264,0.0010684555163607001,0.0010708324844017625,0.0010691555216908455,0.0010684615699574351,0.0010662340791895986,0.0010667269816622138,0.001063068164512515,0.001066331984475255,0.0010672354837879539,0.001067046308889985,0.0010663402499631047,0.001066728844307363,0.0010628983145579696,0.00106448819860816,0.0010625829454511404,0.0010657311649993062,0.0010667048627510667,0.0010639040265232325,0.0010606908472254872,0.001061266870237887,0.0010584229603409767,0.001061005750671029,0.001082030008547008,0.0010789631633087993,0.0010757733834907413,0.001074981759302318,0.0010702672880142927,0.0010718543780967593,0.001069477992132306,0.0010729898931458592,0.001076654065400362,0.0010728206252679229,0.0010703399311751127,0.0010679727420210838,0.0010624153073877096,0.0010629812022671103,0.0010601718677207828,0.0010599680244922638,0.0010568375000730157,0.0010575228370726109,0.001054314780049026,0.0010559523943811655,0.0010549218859523535,0.0010561472736299038,0.0010558573994785547,\n",
      "Epoch 13/20\n",
      "68/68 [==============================] - 5s 75ms/step - loss: 9.8515e-04 - val_loss: 9.9479e-0422520700097,0.0009754275088198483,0.001003810204565525,0.0009948554215952754,0.0010128540452569723,0.001014834619127214,0.0010128432186320424,0.0010064993984997272,0.0010075947502627969,0.0009997342713177204,0.0010051667923107743,0.0010015323059633374,0.0010072528384625912,0.001008693128824234,0.0010080236243084073,0.0010031663114205003,0.0010055218590423465,0.0010047184769064188,0.001006657024845481,0.0010047800606116652,0.001006323378533125,0.0010056026512756944,0.0010082224616780877,0.0010064378147944808,0.0010065899696201086, - ETA: 2s - loss: 0.00100.0010054141748696566,0.0010050719138234854,0.0010008502285927534,0.0010045281378552318,0.0010053549194708467,0.001006003119982779,0.0010065134847536683,0.0010057553881779313,0.001001172000542283,0.0010031877318397164,0.0010011028498411179,0.001005105790682137,0.0010071380529552698,0.001003825105726719,0.0010009686229750514,0.001000823569484055,0.0009974576532840729,0.000999809824861586,0.0010196829680353403,0.0010182615369558334,0.0010160289239138365,0.001015832182019949,0.0010127576533704996,0.0010129056172445416,0.0010101818479597569,0.0010125193512067199, - ETA: 0s - loss: 0.00100.0010139859514310956,0.0010124980472028255,0.0010110503062605858,0.0010096622863784432,0.0010063005611300468,0.0010048291878774762,0.0010007848031818867,0.0010006888769567013,0.0009968549711629748,0.0009980290196835995,0.0009956721914932132,0.0009938885923475027,0.0009906735504046082,0.0009876387193799019,0.0009851516224443913,\n",
      "Epoch 14/20\n",
      "68/68 [==============================] - 5s 74ms/step - loss: 8.0586e-04 - val_loss: 8.2151e-04535439847037196,0.0008495838264934719,0.0008387136622332036,0.0008128760964609683,0.0008153898525051773,0.0008052873308770359,0.0008123759180307388,0.0008212408283725381,0.0008130046189762652,0.0008059130050241947,0.0007999390363693237,0.0007898543844930828,0.0007980341906659305,0.0008048004237934947,0.0008020981913432479,0.0007992462487891316,0.0007994234911166131,0.0007974588079378009,0.0007973350584506989,0.0007948245038278401,0.0007966258563101292,0.0007976444903761148,0.0007985786651261151,0.0007983400719240308,0.0007962561794556677,0.0007926481775939465,0.0007916628383100033,0.0007885016384534538,0.0007929005078040063,0.000797951826825738,0.0007948472630232573,0.0007964042015373707,0.0007972426828928292,0.0007919765776023269,0.0007947062840685248,0.0007973520550876856,0.0007996349595487118,0.0007996289059519768,0.0007958217756822705,0.0007947341073304415,0.0007946044788695872,0.0007903545047156513,0.0007918733172118664,0.0008119517005980015,0.0008113433141261339,0.0008101594867184758,0.0008100085542537272,0.0008088283357210457,0.0008067315211519599,0.0008052163175307214,0.000806706550065428,0.0008058489765971899,0.0008060077670961618,0.0008050481555983424,0.0008074860670603812,0.0008074046927504241,0.0008073007338680327,0.0008072649361565709,0.0008066805312409997,0.000804734940174967,0.0008057593367993832,0.0008071527117863297,0.0008067499147728086,0.0008058439125306904,0.0008068462484516203,0.000805857009254396,\n",
      "Epoch 15/20\n",
      "68/68 [==============================] - 5s 75ms/step - loss: 8.4112e-04 - val_loss: 7.5917e-04270282414741814,0.0008188153733499348,0.0008197271381504834,0.000825734285172075,0.0008189604268409312,0.0008432631148025393,0.000855842197779566,0.0008883392438292503,0.0009264535619877279,0.0009075563866645098,0.0009393127402290702,0.0009522092877887189,0.0009568341192789376,0.0009682073723524809,0.0009570633992552757,0.0009536293218843639,0.0009503229521214962,0.000947684224229306,0.0009443581802770495,0.0009355729562230408,0.0009324835846200585,0.000925982603803277,0.0009200970525853336,0.000913074123673141,0.0009111486142501235,0.0009049337822943926,0.0008999124984256923,0.000898087106179446,0.000894221302587539,0.0008937325328588486,0.000892418494913727,0.000889317539986223,0.0008906154544092715,0.0008865808486007154,0.0008862030226737261,0.0008815738838165998,0.0008815239416435361,0.0008789700805209577,0.0008779487106949091,0.0008745311642996967,0.0008741634665057063,0.0008698176825419068,0.0008686347282491624,0.0008868027362041175,0.0008828734862618148,0.0008784981910139322,0.0008773094159550965,0.00087407894898206,0.0008716402808204293,0.0008684131316840649,0.0008686971850693226,0.0008686032379046082,0.0008653159020468593,0.0008613392128609121,0.0008588539203628898,0.0008555957465432584,0.000854778743814677,0.0008520999108441174,0.0008506158483214676,0.0008497827802784741,0.0008481861441396177,0.0008456935174763203,0.000844330235850066,0.0008419963996857405,0.0008420553640462458,0.0008411150774918497,\n",
      "Epoch 16/20\n",
      "68/68 [==============================] - 5s 75ms/step - loss: 8.0700e-04 - val_loss: 0.00100007337504648603499,0.0007138204528018832,0.0007276976830326021,0.0007325724000111222,0.0007422213675454259,0.0007391105173155665,0.000735434761736542,0.0007356345886364579,0.0007384670316241682,0.000732608197722584,0.000734498375095427,0.0007377822184935212,0.0007383310003206134,0.0007367716170847416,0.0007366560166701674,0.0007361104362644255,0.0007364382036030293,0.0007339837029576302,0.0007318888092413545,0.0007304364698939025,0.0007319841533899307,0.0007329002837650478,0.0007331410888582468,0.0007298282580450177,0.0007284068851731718,0.000726753962226212,0.000724531477317214,0.0007229355978779495,0.0007268284098245203,0.0007252703653648496,0.0007248444599099457,0.0007271234062500298,0.0007296808180399239,0.0007270926143974066,0.0007257679244503379,0.0007230304181575775,0.0007244813605211675,0.0007250463822856545,0.0007271060021594167,0.0007246301975101233,0.0007251407951116562,0.0007279156125150621,0.0007293422240763903,0.0007559903897345066,0.0007592634647153318,0.0007613502093590796,0.0007686364697292447,0.000766208628192544,0.0007728604832664132,0.0007726643234491348,0.00078024179674685,0.0007860052864998579,0.000787312921602279,0.0007890101405791938,0.0007900942582637072,0.0007894007721915841,0.0007927112164907157,0.0007932950975373387,0.0007967155543155968,0.0007992553873918951,0.0008011857280507684,0.0008020655368454754,0.0008037887164391577,0.0008033844060264528,0.0008065851288847625,0.0008070021867752075,\n",
      "Epoch 17/20\n",
      "68/68 [==============================] - 5s 74ms/step - loss: 8.4510e-04 - val_loss: 7.2589e-0477494695783,0.0008860750822350383,0.000893773278221488,0.0008659676532261074,0.0008947284077294171,0.0009040720760822296,0.0008976679528132081,0.0008905631839297712,0.0008886620053090155,0.0008772836299613118,0.000886282417923212,0.0008852236205711961,0.0008898318046703935,0.000894832715857774,0.0008866624557413161,0.0008802931988611817,0.0008794543100520968,0.0008742344216443598,0.0008741907076910138,0.000866928487084806,0.0008708816021680832,0.0008687059162184596,0.0008732176502235234,0.000873887212947011,0.0008738299948163331,0.0008725865627638996,0.000872383767273277,0.0008699181489646435,0.0008711724076420069,0.0008692962001077831,0.0008710713009350002,0.0008704502834007144,0.0008725348743610084,0.0008721514604985714,0.0008713022107258439,0.0008688530069775879,0.0008713829447515309,0.0008709575631655753,0.0008709726971574128,0.0008700002217665315,0.0008701031329110265,0.0008684358326718211,0.0008692381670698524,0.0008859026129357517,0.0008830880396999419,0.0008785149548202753,0.0008792727021500468,0.0008750373963266611,0.0008769137784838676,0.0008757508476264775,0.0008770135464146733,0.0008783487137407064,0.0008760988130234182,0.0008747159736230969,0.0008725064690224826,0.0008696116856299341,0.0008672687108628452,0.0008627938223071396,0.0008591561927460134,0.0008564095478504896,0.0008555799722671509,0.0008529333281330764,0.0008510824991390109,0.0008490902255289257,0.000846210983581841,0.0008451011963188648,\n",
      "Epoch 18/20\n",
      "68/68 [==============================] - 5s 75ms/step - loss: 6.7533e-04 - val_loss: 4.0193e-04384419441223145,0.0007774708792567253,0.0007388282101601362,0.0007206866866908967,0.0007270966889336705,0.0007010320550762117,0.0007196727092377841,0.0007220804691314697,0.0007092026062309742,0.000704840524122119,0.0007014392758719623,0.0006940733292140067,0.0006935994606465101,0.0006874592509120703,0.0006907437928020954,0.000694706744980067,0.0006889824871905148,0.000684429774992168,0.0006795918452553451,0.0006731573375873268,0.0006747448351234198,0.0006776895606890321,0.0006782900891266763,0.0006810865015722811,0.0006814411608502269,0.0006790613988414407,0.0006804552394896746,0.0006771231419406831,0.0006784180295653641,0.0006816714885644615,0.0006849535275250673,0.0006899902946315706,0.0006880860892124474,0.000685117847751826,0.000684406200889498,0.0006834524683654308,0.0006884515751153231,0.0006919390871189535,0.0006908216164447367,0.0006903738831169903,0.0006875438848510385,0.0006870647193863988,0.0006871998775750399,0.0007060475181788206,0.0007064875098876655,0.0007052416331134737,0.0007088624988682568,0.0007097774068824947,0.0007087530102580786,0.0007094078464433551,0.0007066806429065764,0.0007074936293065548,0.0007054756861180067,0.0007055892492644489,0.000702913326676935,0.0007019945187494159,0.0006991139962337911,0.0006978189921937883,0.0006934634293429554,0.0006903681205585599,0.000689858861733228,0.0006856276886537671,0.0006814614753238857,0.0006804761942476034,0.0006778457900509238,0.000675329880323261,\n",
      "Epoch 19/20\n",
      "68/68 [==============================] - 5s 75ms/step - loss: 5.1630e-04 - val_loss: 4.8608e-0438095301715657115,0.0004077653575222939,0.0004500608774833381,0.00045185573981143534,0.0004438362957444042,0.0004376747237984091,0.00044619134860113263,0.00046173608279787004,0.0004591900506056845,0.0004545036645140499,0.00044757366413250566,0.0004431800334714353,0.0004374357813503593,0.00043365382589399815,0.00043015051051042974,0.000429968029493466,0.00043990579433739185,0.0004403559723868966,0.0004373113624751568,0.00044326469651423395,0.00044470172724686563,0.00044491165317595005,0.0004427202802617103,0.000442507240222767,0.0004465728998184204,0.00044606803567148745,0.0004478969203773886,0.00045339696225710213,0.00045425165444612503,0.0004555626364890486,0.00045999058056622744,0.00046350350021384656,0.0004667839966714382,0.00047145920689217746,0.00047389548853971064,0.0004711133660748601,0.0004746854829136282,0.00047513257595710456,0.0004745285550598055,0.0004762126482091844,0.0004783004696946591,0.00047945420374162495,0.0004813973791897297,0.0005023498670198023,0.0005021165707148612,0.0005030900938436389,0.0005039008101448417,0.0005048541352152824,0.0005054947687312961,0.0005044607096351683,0.0005065438454039395, - ETA: 0s - loss: 5.0654e-040.0005078156245872378,0.0005073800566606224,0.0005091296625323594,0.0005090602790005505,0.0005100975977256894,0.0005095897940918803,0.0005082269199192524,0.000509337754920125,0.0005086352466605604,0.0005117144901305437,0.0005108343902975321,0.0005109569756314158,0.0005141608417034149,0.0005143692251294851,0.0005163019523024559,\n",
      "Epoch 20/20\n",
      "68/68 [==============================] - 5s 70ms/step - loss: 6.4768e-04 - val_loss: 0.00120006457994459196925,0.0006848869379609823,0.0007106871344149113,0.0006982616614550352, 0.0006868073251098394,0.0006895053084008396,0.0006743809208273888,0.0006799832335673273,0.0006602907669730484,0.0006474959081970155,0.0006382293649949133,0.0006369833135977387,0.0006224299431778491,0.0006316173239611089,0.0006307815201580524,0.0006357733509503305,0.0006270226440392435, - ETA: 2s - loss: 6.2702e-040.000626737775746733,0.0006227570120245218,0.0006203808006830513,0.0006179556949064136,0.0006191186839714646,0.000617513433098793,0.0006095116841606796,0.000607769179623574,0.0006083676707930863,0.00060208176728338,0.0006037731654942036,0.0006016115075908601,0.0006007732008583844,0.0005973640363663435,0.0005975409294478595,0.0005968691548332572,0.0005956385284662247,0.0006014762329868972,0.0006029012147337198,0.0006082183681428432,0.0006119201425462961,0.000609827577136457,0.0006119949975982308,0.000613120966590941,0.0006140630575828254,0.0006158772157505155,0.0006350118201225996,0.0006342815468087792,0.0006322090630419552,0.0006328216986730695,0.000632427865639329,0.0006356918020173907,0.0006358172395266593,0.0006355741643346846,0.0006378521793521941,0.000637119053862989,0.0006359707331284881,0.0006393712246790528,0.0006391776842065156,0.00064066395862028,0.0006394058000296354,0.0006387417670339346,0.0006387000903487206,0.0006417022086679935,0.0006411700160242617,0.0006414176896214485,0.0006434674724005163,0.0006442682351917028,0.0006476795533671975,\n",
      "Finished training on 203 after 97.22326517105103 seconds\n",
      "Finished job on after 97.22419285774231 seconds\n"
     ]
    }
   ],
   "source": [
    "#file_ids = spark.sql('select distinct _c1 from df_healhty').rdd.map(lambda row : row._c1).collect()\n",
    "start = time.time()\n",
    "for file_id in [203]:\n",
    "    recording_trimmed = create_trimmed_recording(df_faulty,file_id)\n",
    "    print(\"Staring training on %s\" % (file_id))\n",
    "    train(recording_trimmed)\n",
    "    print(\"Finished training on %s after %s seconds\" % (file_id,time.time()-start))\n",
    "\n",
    "print(\"Finished job on after %s seconds\" % (time.time()-start))\n",
    "faulty_losses = lr.losses"
   ]
  },
  {
   "cell_type": "code",
   "execution_count": 55,
   "metadata": {},
   "outputs": [
    {
     "name": "stdout",
     "output_type": "stream",
     "text": [
      "Staring training on 203\n",
      "Epoch 1/20\n",
      "68/68 [==============================] - 5s 71ms/step - loss: 7.3889e-04 - val_loss: 5.9822e-0406994146109,0.001042320393025875,0.0009587508393451571,0.0009721568785607815,0.0009525553905405104,0.000943509628996253,0.0009470304939895868,0.0009174193837679923,0.0009081350872293115,0.0008856597705744207,0.0008799857459962368,0.0008568574558012187,0.0008587341289967299,0.0008489501196891069,0.000848363502882421,0.0008416963974013925,0.0008421357488259673,0.0008411743328906596,0.0008354683523066342,0.000829084892757237,0.0008267693337984383,0.0008199054864235222,0.0008247832302004099,0.0008273679413832724,0.0008213277906179428,0.0008198180585168302,0.0008124427986331284,0.0008048423915170133,0.0008042922709137201,0.0007979929796420038,0.0007996579515747726,0.0007964071701280773,0.0008012439357116818,0.000805387448053807,0.0007999110966920853,0.0008028077427297831,0.0008058161474764347,0.0008064465946517885,0.0008095671073533595,0.0008047752198763192,0.0008067463058978319,0.0008039071108214557,0.0008038444793783128,0.0008170268265530467,0.0008112466312013566,0.0008085172157734632,0.0008058884995989501,0.0008040748070925474,0.0008022104157134891,0.0007980548543855548,0.0007949820137582719,0.0007891985005699098,0.0007830479880794883,0.0007805507048033178,0.0007729142089374363,0.0007702178554609418,0.0007645544246770442,0.0007666408200748265,0.0007680011913180351,0.000762108713388443,0.0007590835448354483,0.0007557320641353726,0.0007497825426980853,0.0007464277441613376,0.0007411693804897368,0.0007388891535811126,\n",
      "Epoch 2/20\n",
      "68/68 [==============================] - 5s 70ms/step - loss: 8.4707e-04 - val_loss: 0.00110005549881607294083,0.0005714072613045573,0.0006071518873795867,0.0006303648115135729,0.000626834575086832,0.0006175611633807421,0.0006225822144187987,0.0006097801961004734,0.0006099064485169947,0.0006073106196708977,0.0006053851684555411,0.0006114729912951589,0.0006045615882612765,0.000618591730017215,0.0006340114050544798,0.0006166275124996901,0.0006236301269382238,0.0006175412563607097,0.0006280120578594506,0.0006397602264769375,0.0006291821482591331,0.0006499318988062441,0.0006678338977508247,0.0006626428803429008,0.0006753140478394926,0.0007013517315499485,0.000709798070602119,0.0007022224017418921,0.0007050333661027253,0.0007015661685727537,0.0007108260178938508,0.0007233942742459476,0.0007212823256850243,0.0007264686282724142,0.0007409440586343408,0.0007419742760248482,0.0007455250597558916,0.0007505685789510608,0.0007589447195641696,0.0007656743982806802,0.0007739152642898262,0.0007732338272035122,0.000779110356234014,0.000799705449026078,0.0007979729562066495,0.0008074622601270676,0.0008198497234843671,0.0008255070424638689,0.0008244176278822124,0.000833778758533299,0.0008353047887794673,0.0008371112053282559,0.0008430177113041282,0.0008385559194721282,0.0008419309160672128,0.0008458104566670954,0.0008411145536229014,0.0008431216119788587,0.0008506614249199629,0.0008506998419761658,0.0008487646700814366,0.0008496227092109621,0.0008452599868178368,0.0008468547603115439,0.0008497743983753026,0.0008470683242194355,\n",
      "Epoch 3/20\n",
      "68/68 [==============================] - 5s 69ms/step - loss: 8.0614e-04 - val_loss: 3.8634e-0499812179804,0.0009984119096770883,0.0009828481124714017,0.0009396970272064209,0.0009330437751486897,0.0009740322129800916,0.0009645115933381021,0.000966078951023519,0.0010039472253993154,0.0010034051956608891,0.0010030692210420966,0.0010432032868266106,0.0010764716425910592,0.0011085079750046134,0.0010868345852941275,0.0011036964133381844,0.001130904769524932,0.0011235082056373358,0.0011175768449902534,0.001114614657126367,0.001115057966671884,0.0011032638140022755,0.0010993621544912457,0.0010883681243285537,0.0010793374385684729,0.0010857965098693967,0.0010749760549515486,0.0010699910344555974,0.0010694279335439205,0.001052272622473538,0.001045079785399139,0.0010329182259738445,0.0010209170868620276,0.001011790824122727,0.0009984130738303065,0.0009899483993649483, - ETA: 1s - loss: 9.8995e-040.000979939242824912,0.0009695210610516369,0.0009598906617611647, - ETA: 1s - loss: 9.5989e-040.0009532305994071066,0.000944671337492764,0.0009382202406413853,0.0009332273621112108,0.0009397821850143373,0.0009330571629106998,0.0009268727153539658,0.0009221574873663485,0.0009129486861638725,0.0009057704010047019,0.0008985827444121242,0.0008920931140892208,0.0008862524409778416,0.0008802980883046985,0.0008759709307923913,0.000867866852786392,0.0008609387441538274,0.0008555632666684687,0.0008512772037647665,0.0008429258596152067,0.0008363649249076843,0.0008315803133882582,0.0008272205595858395,0.0008216608548536897,0.0008152757654897869,0.0008092644275166094,0.0008061384432949126,\n",
      "Epoch 4/20\n",
      "68/68 [==============================] - 5s 70ms/step - loss: 8.1483e-04 - val_loss: 5.7566e-04962544142268598,0.00041234263335354626,0.0004304445756133646,0.0004327264323364943,0.0004505084652919322,0.0004442481731530279,0.00045466137817129493,0.00045047112507745624,0.00045950477942824364,0.0004598457890097052,0.0004712630179710686,0.0004756554844789207,0.00047785494825802743,0.000475767272291705,0.0004886090755462646,0.0004883129149675369,0.0005008910084143281,0.0005033827037550509,0.0005117427208460867,0.0005211601965129375,0.0005220260354690254,0.0005319991614669561,0.0005386549164541066,0.0005485363071784377,0.0005677288863807917,0.0005676525179296732,0.0005802159430459142,0.0005823494284413755,0.0005988028133288026,0.0006167275132611394,0.0006201628129929304,0.0006356241065077484,0.000648785731755197,0.0006481596501544118,0.000659471726976335,0.0006756585207767785,0.0006884766044095159,0.0006885211332701147,0.0006993335555307567,0.0007015880546532571,0.0007091935258358717,0.0007195863872766495,0.0007174522615969181,0.000739544106181711,0.0007471615681424737,0.0007457215106114745,0.0007500420324504375,0.0007567526190541685,0.000762679788749665,0.0007636838126927614,0.0007731797522865236,0.0007765832124277949,0.000778054993133992,0.0007819898310117424,0.0007806267822161317,0.0007875971496105194,0.0007930955616757274,0.0007917113252915442,0.0007945786346681416,0.0008015703060664237,0.0008065528236329556,0.0008022282272577286,0.0008061595726758242,0.0008022989495657384,0.0008094646618701518,0.0008148342021740973,\n",
      "Epoch 5/20\n",
      "68/68 [==============================] - 5s 71ms/step - loss: 9.3865e-04 - val_loss: 5.4513e-042759596556425,0.0010271001374348998,0.0009435408865101635,0.0009765460854396224,0.0009718702058307827,0.000967129017226398,0.0010179607197642326,0.0010330373188480735,0.0010524470126256347,0.0010821516625583172,0.0010980365332216024,0.0011047602165490389,0.0011100495466962457,0.0011123324511572719,0.0011133169755339622,0.0011123117292299867,0.0011004991829395294,0.0010905482340604067,0.0011043238919228315,0.0011008911533281207,0.0010836337460204959,0.0010930664138868451,0.0010848732199519873,0.0010746417101472616,0.0010796538554131985,0.0010627757292240858,0.0010581912938505411,0.0010573669569566846,0.0010517359478399158,0.0010429401881992817,0.001051724306307733,0.00104805629234761,0.001044962671585381,0.0010494508314877748,0.0010411404073238373,0.0010362230241298676,0.0010401405161246657,0.0010346275521442294,0.0010286339092999697,0.0010308946948498487,0.001020877156406641,0.0010154646588489413,0.0010179406963288784,0.0010251039639115334,0.0010176332434639335,0.0010158645454794168,0.0010067516705021262,0.0010029105469584465,0.0009977213339880109,0.000989297404885292,0.000983507139608264,0.000978411640971899,0.0009773381752893329,0.0009784812573343515,0.0009709757869131863,0.0009724656702019274,0.0009729115990921855,0.0009678739006631076,0.0009685736149549484,0.0009639356867410243,0.000960026285611093,0.0009558192687109113,0.0009501357562839985,0.000946358370129019,0.0009432685910724103,0.0009386533638462424,\n",
      "Epoch 6/20\n",
      "68/68 [==============================] - 5s 71ms/step - loss: 6.9900e-04 - val_loss: 6.4553e-04144877941347659,0.0005716513260267675,0.000604313041549176,0.0005828425055369735,0.0005923713906668127,0.0006047046044841409,0.0006120559992268682,0.000650459376629442,0.0006447216146625578,0.0006570998230017722,0.0006432803347706795,0.0006632415461353958,0.0006678941426798701,0.0006778077222406864,0.0006865923060104251,0.0006810890045017004,0.000672894821036607,0.0006834996747784317,0.0006849245401099324,0.0006921250023879111,0.0006982696359045804,0.0006937362486496568,0.0006864263559691608,0.0006936511490494013,0.0006944776396267116,0.0006999087636359036,0.0007045827223919332,0.0007001637713983655,0.0006944375345483422,0.0006994436262175441,0.0006994775030761957,0.000704284175299108,0.0007083097007125616,0.0007042910438030958,0.0006995127769187093,0.0007026331732049584,0.0007030073902569711,0.0007059076451696455,0.0007080406066961586,0.0007067171391099691,0.0007051580469124019,0.0007058816263452172,0.0007035722956061363,0.0007217490347102284,0.0007255318923853338,0.0007209716713987291,0.0007192583288997412,0.000716286594979465,0.0007103977841325104,0.0007089308928698301,0.0007073752931319177,0.0007045867387205362,0.0007055742898955941,0.0007055142195895314,0.0007037397590465844,0.0007063610828481615,0.0007031066343188286,0.0007039622287265956,0.0007015333394519985,0.0006989339599385858,0.0006982864579185843,0.0006967823719605803,0.0006964604835957289,0.0007001060293987393,0.0006971462280489504,0.0006990011315792799,\n",
      "Epoch 7/20\n",
      "68/68 [==============================] - 5s 72ms/step - loss: 6.7768e-04 - val_loss: 6.8585e-04525157416239381,0.0007147675496526062,0.0006907182978466153,0.0006979688769206405,0.0006868422497063875,0.0006850723875686526,0.0006679915823042393,0.0006921759340912104,0.0007086039404384792,0.0007015175651758909,0.0007207091548480093,0.0007184090209193528,0.000716278504114598,0.0007149586454033852,0.0006975166616030037,0.0006976845324970782,0.0006950849783606827,0.0006922330358065665,0.0006819694535806775,0.0006827319739386439,0.0006818777183070779,0.000682252284605056,0.0006834302330389619,0.0006772406050004065,0.0006837298860773444,0.0006941973115317523,0.0006883875466883183,0.0006993075367063284,0.000705587153788656,0.0007024946971796453,0.000703564437571913,0.000698251009453088,0.000693171692546457,0.0006940793828107417,0.0006931190146133304,0.000690215383656323,0.0006852331571280956,0.0006855348474346101,0.0006800888222642243,0.0006844330346211791,0.0006832708604633808,0.0006885261391289532,0.0006946117500774562,0.0007076372276060283,0.0007095771725289524,0.0007080447976477444,0.0007082594092935324,0.0007063111988827586,0.0007002952042967081,0.0006972817936912179,0.0006926182541064918,0.0006926009082235396,0.0006920741870999336,0.0006863292073830962,0.0006846895557828248,0.0006802201387472451,0.0006774552748538554,0.0006740647368133068,0.0006754675996489823,0.0006776950904168189,0.000675625866279006,0.0006770696491003036,0.0006768271559849381,0.0006748726591467857,0.0006783036515116692,0.0006776763475500047,\n",
      "Epoch 8/20\n",
      "68/68 [==============================] - 5s 71ms/step - loss: 8.9855e-04 - val_loss: 5.4743e-04153075373731554,0.0006491619278676808,0.000709931249730289,0.000673338770866394,0.0006985187064856291,0.0006764112040400505,0.0007078712224029005,0.000738898990675807,0.0007242028950713575,0.0007505528046749532,0.0007457908941432834,0.0007657567621208727,0.000801348127424717,0.0007895859889686108,0.0008124183514155447,0.0008469303138554096,0.0008427884895354509,0.0008588264463469386,0.0008830132428556681,0.0008697767625562847,0.0008707105298526585,0.0008744449005462229,0.0008700749021954834,0.0008682626648806036,0.0008826229022815824,0.0008876195643097162, - ETA: 2s - loss: 8.8762e-040.0008842154056765139,0.0008934737998060882,0.0008929206524044275,0.000892460229806602,0.0009134875144809484,0.0009307631407864392,0.0009386216988787055,0.0009371214546263218,0.0009389487677253783,0.0009489207877777517,0.0009502898319624364,0.0009502376196905971,0.0009649914572946727,0.0009742077090777457,0.0009778172243386507,0.0009866865584626794,0.0009935923153534532,0.0010007169330492616,0.001006984617561102,0.0010124205145984888,0.0010037078754976392,0.001007359940558672,0.0010085608810186386,0.0009977164445444942,0.000994649832136929,0.0009861919097602367,0.000980701413936913,0.0009730412275530398,0.0009668650454841554,0.0009571317350491881,0.0009502510074526072,0.0009417178225703537,0.0009378117974847555,0.0009299215162172914,0.0009249126305803657,0.0009196497849188745,0.0009122954215854406,0.0009071219828911126,0.0009018448763526976,0.0008985549793578684,\n",
      "Epoch 9/20\n",
      "68/68 [==============================] - 5s 78ms/step - loss: 6.3292e-04 - val_loss: 5.2355e-04275042007677257,0.0007061178330332041,0.0007287591579370201,0.0007175119244493544,0.0007195082143880427,0.0007266736938618124,0.0007156066712923348,0.0007308395579457283,0.0007436159066855907,0.000737974769435823,0.0007199750398285687,0.0007052717264741659,0.0006886318442411721,0.0006846287287771702,0.000668582390062511,0.0006608653930015862,0.0006623071385547519,0.0006466804188676178,0.000640902086161077,0.0006326049915514886,0.0006298379739746451,0.0006262976094149053,0.0006277879583649337,0.0006245123804546893, - ETA: 2s - loss: 6.2451e-040.0006249769940041006,0.0006201386568136513,0.0006272847531363368,0.0006311573088169098,0.0006326771108433604,0.0006429721252061427,0.0006400399724952877,0.0006472059176303446,0.000646641943603754,0.0006515017012134194,0.0006610190030187368,0.0006539638852700591,0.0006579823675565422,0.0006624175584875047,0.0006546124932356179,0.0006599094485864043,0.0006607208051718771,0.0006601199856959283,0.0006649929564446211,0.000676217139698565,0.00067610148107633,0.0006743783596903086,0.0006690772715955973,0.0006666891858913004,0.0006619052146561444,0.000660139019601047,0.0006571310223080218,0.0006580526242032647,0.0006563745555467904,0.0006610275013372302,0.000661362602841109,0.0006586179370060563,0.000655661104246974,0.000650242087431252,0.0006472953245975077,0.0006425888277590275,0.000645039021037519,0.0006445790641009808,0.0006414434174075723,0.000637887860648334,0.0006344695575535297,0.0006329208263196051,\n",
      "Epoch 10/20\n",
      "68/68 [==============================] - 5s 69ms/step - loss: 6.3782e-04 - val_loss: 3.5339e-04593601963482797,0.0005538734840229154,0.0005584938917309046,0.0005520203849300742,0.0005279209581203759,0.000555685197468847,0.0005493761855177581,0.0005859308294020593,0.000615486060269177,0.000603564374614507,0.0006079246522858739,0.0006022762390784919,0.0005982937291264534,0.0005929855396971107,0.0005960334092378616,0.0005882718833163381,0.0005797662306576967,0.0005869209999218583,0.0005861218087375164,0.0005898099043406546,0.0005857399082742631,0.0005966000026091933,0.0006049299263395369,0.0006046727648936212,0.0006107163499109447,0.0006091938121244311,0.0006189393461681902,0.0006256778142414987,0.0006236735498532653,0.0006272037862800062,0.0006275869091041386,0.0006273193866945803,0.0006283507100306451,0.0006233295425772667,0.0006209639832377434,0.0006191178690642118,0.000620009028352797,0.0006173673318699002,0.0006219089846126735,0.0006293485057540238,0.0006282416288740933,0.0006341333501040936,0.0006372933858074248,0.000650096102617681,0.0006513677071779966,0.0006469807121902704,0.0006438785931095481,0.0006429400527849793,0.0006379496771842241,0.000642548082396388,0.0006444920436479151,0.0006456270930357277,0.0006479250150732696,0.0006435016402974725,0.0006403285660780966,0.0006401915452443063,0.0006382890860550106,0.0006384085863828659,0.0006362633430399001,0.0006370074115693569,0.0006352898781187832,0.0006379352416843176,0.0006391493370756507,0.0006386014283634722,0.0006395871168933809,0.0006378231919370592,\n",
      "Epoch 11/20\n",
      "68/68 [==============================] - 5s 71ms/step - loss: 5.7458e-04 - val_loss: 6.7582e-04481801927089691,0.0006342306733131409,0.0006921730237081647,0.0006351363263092935,0.0006312542245723307,0.000619555707089603,0.0006305706920102239,0.0006269954610615969,0.0006406872998923063,0.0006387170869857073,0.0006231236620806158,0.0006198097253218293,0.0006143217906355858,0.0006073008989915252,0.000609920418355614,0.0005954818334430456,0.0005892496556043625,0.0005877739167772233,0.000579511106479913,0.0005737486644648015,0.0005716250161640346,0.0005653286934830248,0.0005567196058109403,0.00055339140817523,0.0005507266614586115,0.0005511573981493711,0.0005480839172378182,0.00054134801030159,0.0005359756760299206,0.0005363840027712286,0.0005331122083589435,0.0005309016560204327,0.0005298118921928108,0.0005292310379445553,0.0005247180233709514,0.0005241071339696646,0.0005269528483040631,0.0005274455761536956,0.0005312394932843745,0.0005361274816095829,0.0005349823622964323,0.0005388155113905668,0.0005368943093344569,0.0005495076184161007,0.0005499485996551812,0.0005467971204780042,0.0005474726785905659,0.0005479806568473577,0.0005492366035468876,0.0005552586517296731,0.0005541010177694261,0.0005577601259574294,0.0005574773531407118,0.0005587308551184833,0.0005566345062106848,0.0005619765142910182,0.0005668180529028177,0.0005653129774145782,0.0005691617261618376,0.0005683971685357392,0.000570425414480269,0.0005734653677791357,0.0005717158201150596,0.0005740334745496511,0.0005740708438679576,0.0005745833041146398,\n",
      "Epoch 12/20\n",
      "68/68 [==============================] - 5s 70ms/step - loss: 5.7379e-04 - val_loss: 8.8247e-04163186044432223,0.0006497290451079607,0.0006531939143314958,0.0006774161593057215,0.0006486665224656463,0.0006821533315815032,0.0007120581576600671,0.0007042377255856991,0.0007149018929339945,0.0007138676010072231,0.000686459825374186,0.0006773771019652486,0.0006619258783757687,0.0006519961752928793,0.0006492979591712356,0.0006395751843228936,0.0006339029059745371,0.0006231832085177302,0.0006112416740506887,0.0006093821139074862,0.0006061613094061613,0.0005974886007606983,0.0005925438017584383,0.0005870285676792264,0.0005792168667539954,0.0005803498206660151,0.0005777221522293985,0.0005728660617023706,0.0005681015900336206,0.0005643237964250147,0.0005580543074756861,0.0005603126483038068,0.000558752566576004,0.0005553736118599772,0.0005540148122236133,0.0005532499635592103,0.0005551580106839538,0.0005592197994701564,0.0005601979210041463,0.0005613668472506106,0.0005601329612545669,0.0005591952940449119,0.0005591748049482703,0.0005753012374043465,0.000574823992792517,0.0005733672878704965,0.0005711316480301321,0.0005697572487406433,0.0005705307121388614,0.0005732675781473517,0.0005722157657146454,0.0005763693479821086,0.0005749526899307966,0.0005741188651882112,0.0005706138908863068,0.0005698831519111991,0.0005669051897712052,0.0005663234042003751,0.000566749949939549,0.0005655269487760961,0.0005693844868801534,0.0005721828783862293,0.0005684885545633733,0.0005720388726331294,0.0005712728016078472,0.0005737886531278491,\n",
      "Epoch 13/20\n",
      "68/68 [==============================] - 5s 70ms/step - loss: 5.4938e-04 - val_loss: 4.7385e-04793137872591615,0.000618371122982353,0.0006380586419254541,0.0006584753282368183,0.0006327489390969276,0.0006386006134562194,0.0006239141221158206,0.0006264420808292925,0.0006314104539342225,0.0006202501826919615,0.000624373962637037,0.0006166123203001916,0.0006113194394856691,0.0006223074160516262,0.0006074048578739166,0.0006132987909950316,0.0006080261082388461,0.000604114553425461,0.0006061208550818264,0.0005976182874292135,0.0005967059987597167,0.000587929505854845,0.000591476506087929,0.0005903259734623134,0.0005893597262911499,0.0005903688725084066,0.0005854715127497911,0.0005856215138919652,0.0005874349153600633,0.0005901709664613008,0.0005963246221654117,0.0005936311790719628,0.000599350081756711,0.0006007797201164067,0.0006021818262524903,0.0006048368522897363,0.0006040736916474998,0.0006049259100109339,0.0005993348895572126,0.0005978128174319863,0.0005965286982245743,0.000595822639297694,0.0005923896678723395,0.000602847314439714,0.0005986657342873514,0.0005933247739449143,0.0005914120119996369,0.0005883542471565306,0.0005873272893950343,0.0005860938690602779,0.0005826659617014229,0.0005818461067974567,0.0005792409647256136,0.0005771006690338254,0.0005745862144976854,0.0005708030075766146,0.0005688777891919017,0.000566257513128221,0.000563326058909297,0.0005609240033663809,0.000559329753741622,0.0005557012045755982,0.000554319005459547,0.0005527215544134378,0.0005508497124537826,0.0005493837525136769,\n",
      "Epoch 14/20\n",
      "68/68 [==============================] - 5s 70ms/step - loss: 5.4574e-04 - val_loss: 3.0926e-0444754717964679003,0.0004448273393791169,0.0004465779638849199,0.0004378426820039749,0.00043236592318862677,0.00041936346678994596,0.0004272718506399542,0.0004328280338086188,0.00043327294406481087,0.00042848128941841424,0.0004298167768865824,0.0004357464495114982,0.00043567147804424167,0.00044132748735137284,0.00043804472079500556,0.00043130177073180676,0.00043204319081269205,0.0004302706220187247,0.00043314494541846216,0.0004359786689747125,0.00043326549348421395,0.0004388758970890194,0.0004445500089786947,0.0004499277856666595,0.00045911510824225843,0.00046300870599225163,0.00046545686200261116,0.00046605689567513764,0.0004714912793133408,0.00047255054232664406,0.0004763307806570083,0.00048139141290448606,0.000484814663650468,0.00048380077350884676,0.000487643905216828,0.00048792679444886744,0.0004911781288683414,0.0004955079639330506,0.0004974055918864906,0.0004960066871717572, - ETA: 1s - loss: 4.9601e-040.0004990039742551744,0.0004978779470548034,0.0005006093997508287,0.0005169559153728187,0.0005178885767236352,0.0005140407010912895,0.0005155707476660609,0.0005104487063363194,0.0005102248978801072,0.0005085194716230035,0.000507671560626477,0.0005076571833342314,0.0005064167198725045,0.000508673198055476,0.0005085979937575758,0.0005100573762319982,0.0005093933432362974,0.0005128727643750608,0.0005166243645362556,0.0005149649223312736,0.0005192218231968582,0.0005286647356115282,0.0005308548570610583,0.0005345956305973232,0.0005434094346128404,0.0005457402439787984,\n",
      "Epoch 15/20\n",
      "68/68 [==============================] - 5s 70ms/step - loss: 7.4335e-04 - val_loss: 5.3320e-046993323485367,0.0005075918743386865,0.0006032841629348695,0.000592805736232549,0.0006291316822171211,0.000682939076796174,0.000672884110826999,0.0006633336306549609,0.000693954003509134,0.000685832230374217,0.0006906574708409607,0.0006973436684347689,0.0006937361904419959,0.0007110157166607678,0.0007245965534821153,0.0007221012492664158,0.0007149635348469019,0.0007168322918005288,0.000712095876224339,0.0007082599331624806,0.0007268398185260594,0.0007255777018144727,0.000731343578081578,0.0007458104519173503,0.0007352539687417448,0.0007361719035543501,0.0007401618058793247,0.0007315079565159976,0.000731318723410368,0.0007333873072639108,0.0007335887057706714,0.0007332584355026484,0.0007421537302434444,0.000740947958547622,0.000740863208193332,0.0007454282604157925,0.0007434735307469964,0.0007455170853063464,0.0007482250221073627,0.0007437774911522865,0.000742886564694345,0.0007453658618032932,0.0007457503816112876,0.0007547848508693278,0.0007599394302815199,0.0007579431403428316,0.0007579809753224254,0.0007606235449202359,0.0007545744883827865,0.0007549398578703403,0.0007545578991994262,0.0007478676270693541,0.0007475601742044091, - ETA: 0s - loss: 7.4756e-040.0007466866518370807,0.000741363677661866,0.0007408581441268325,0.0007454113801941276,0.0007404405623674393,0.0007470082491636276,0.0007580012315884233,0.0007596614887006581,0.000754066277295351,0.0007531486335210502,0.0007509862189181149,0.0007453780854120851,0.0007433489663526416,\n",
      "Epoch 16/20\n",
      "68/68 [==============================] - 5s 70ms/step - loss: 7.2739e-04 - val_loss: 8.4472e-04240279715508223,0.0004477111797314137,0.000460136856418103,0.0004460172785911709,0.0004452158755157143,0.0004561013192869723,0.0004417605232447386,0.00044398923637345433,0.0004318005812820047,0.0004396302392706275,0.0004365197673905641,0.00043884728802368045,0.00044224594603292644,0.0004334918048698455,0.000430155370850116,0.00043006596388295293,0.00042002429836429656,0.00043186734546907246,0.0004310655640438199,0.00044569504098035395,0.00046113572898320854,0.000453226879471913,0.00046353749348782003,0.00047864214866422117,0.0004714852257166058,0.00048725164378993213,0.0004963643732480705,0.000501576520036906,0.0005176999256946146,0.0005161353037692606,0.0005306468810886145,0.0005503654829226434,0.0005512944771908224,0.0005573026137426496,0.0005657189758494496,0.0005701601621694863,0.000569924945011735,0.0005809045978821814,0.0005863786791451275,0.00059047422837466,0.0006019657594151795,0.0006082000909373164,0.0006122420309111476,0.000635230157058686,0.0006463752361014485,0.0006581886555068195,0.0006607367540709674,0.0006671558367088437,0.0006779211689718068,0.0006825756863690913,0.0006825344171375036,0.0006948062218725681,0.0007026955718174577,0.0007010364206507802,0.0007065434474498034,0.0007074492750689387,0.0007070740102790296,0.0007144009578041732,0.0007139454246498644,0.0007159279775805771,0.0007229255861602724,0.0007202793494798243,0.0007229004404507577,0.0007269587949849665,0.0007252810755744576,0.0007273850496858358,\n",
      "Epoch 17/20\n",
      "68/68 [==============================] - 5s 69ms/step - loss: 8.7750e-04 - val_loss: 0.00120009146364754997194,0.0009191762655973434,0.0008813917520456016,0.0009316626819781959,0.0009417308610863984,0.0009449454373680055,0.0009823139989748597,0.001004840712994337,0.000967629486694932,0.000978468102402985,0.0009869757341220975,0.0009448985219933093,0.0009406688041053712,0.0009311686735600233,0.0009101326577365398,0.0009011337533593178,0.000915924902074039,0.0009157917811535299,0.0008907251176424325,0.00088740442879498,0.0008681315230205655,0.0008644186309538782,0.000865645008161664,0.0008517892565578222,0.0008455970091745257,0.0008531507919542491,0.0008447035797871649,0.0008411778253503144,0.0008416971541009843,0.0008303229114972055,0.0008326381794176996,0.0008295450243167579,0.0008224746561609209,0.0008225233759731054,0.0008275853469967842,0.0008255128050222993,0.0008203351753763855,0.0008278657915070653,0.0008293801220133901,0.000824290793389082,0.0008276388980448246,0.0008248990634456277,0.0008230194798670709,0.0008410245645791292,0.0008447549771517515,0.0008418841753154993,0.0008456786163151264,0.0008478486561216414,0.0008518089889548719,0.0008518321556039155,0.0008510266779921949,0.0008575118845328689,0.0008591542136855423,0.0008613659883849323,0.0008634528494440019,0.0008609797223471105,0.0008613428217358887,0.0008695921860635281,0.0008744648657739162,0.0008676924626342952,0.0008724750368855894,0.0008758433978073299,0.0008766340324655175,0.0008790509891696274,0.0008795458124950528,0.0008774988818913698,\n",
      "Epoch 18/20\n",
      "68/68 [==============================] - 5s 69ms/step - loss: 7.5439e-04 - val_loss: 5.9320e-040765607655,0.000994770205579698,0.0010154707124456763,0.0010008756071329117,0.0010140028316527605,0.0010132809402421117,0.0009721842943690717,0.0009772374760359526,0.0009644029778428376,0.0009330156608484685,0.0009446225594729185,0.0009269632282666862,0.0009146365919150412,0.0009237588965333998,0.0008997512049973011,0.0008903586422093213,0.0008856201893649995,0.0008694999851286411,0.0008660412859171629,0.0008683446794748306,0.0008610678487457335,0.0008477649535052478,0.0008518225513398647,0.0008422962273471057,0.000837101077195257,0.0008398768259212375,0.0008259739843197167,0.0008239821763709188,0.0008264973876066506,0.0008192130480892956,0.0008123795269057155,0.000812456535641104,0.0008016927167773247,0.0008003115653991699,0.000800863781478256,0.0007952105952426791,0.0007920104544609785,0.0007968321442604065,0.0007955246837809682,0.0007907262770459056,0.0007946912664920092,0.0007906099781394005,0.0007885310333222151,0.0008032449404709041,0.0007993633043952286,0.0007966939592733979,0.0007996206404641271,0.00079262291546911,0.0007917897892184556,0.0007922400254756212,0.000787864439189434,0.0007874693255871534,0.0007876898162066936,0.0007827841909602284,0.0007801892934367061,0.0007794278208166361,0.0007747323252260685,0.0007704007439315319,0.000768623489420861,0.0007638611714355648,0.0007609325111843646,0.0007599537493661046,0.0007554958574473858,0.0007532193558290601,0.0007560952799394727,0.0007543879328295588,\n",
      "Epoch 19/20\n",
      "68/68 [==============================] - 5s 71ms/step - loss: 6.4676e-04 - val_loss: 5.8293e-04391396163962781,0.0006173494039103389,0.000655147829093039,0.0006206120015121996,0.0006380075355991721,0.0006471362430602312,0.0006327107548713684,0.0006262617534957826,0.0006419540732167661,0.0006359011749736965,0.000630692346021533,0.0006404067971743643,0.0006281750975176692,0.0006279264343902469,0.0006393549265339971,0.0006319951498880982,0.0006292381440289319,0.0006345707224681973,0.0006288409931585193,0.0006243581883609295,0.0006285341223701835,0.0006201318465173244,0.0006180671043694019,0.000621973245870322,0.0006142854690551758,0.000613325391896069,0.0006170672713778913,0.000611706986092031,0.0006085127242840827,0.0006127635715529323,0.0006071868119761348,0.0006053607212379575,0.000610627350397408,0.0006058316212147474,0.0006031525554135442,0.0006053289398550987,0.0006040455191396177, - ETA: 1s - loss: 6.0405e-040.0006017267005518079,0.0006049099611118436,0.0006026987684890628,0.0006036954582668841,0.0006103149498812854,0.0006089737289585173,0.0006210096180438995,0.0006277687498368323,0.0006240057991817594,0.0006255911430343986,0.0006286426214501262,0.0006275693303905427,0.0006271230522543192,0.0006321318214759231,0.000630037160590291,0.0006337673985399306,0.0006396423559635878,0.0006383797153830528,0.0006400884594768286,0.0006420925492420793,0.0006404232117347419,0.0006384624866768718,0.0006380919949151576,0.0006366764428094029,0.0006372182979248464,0.000644552696030587,0.0006464730249717832,0.0006456022965721786,0.0006467634229920805,\n",
      "Epoch 20/20\n",
      "68/68 [==============================] - 5s 70ms/step - loss: 7.5325e-04 - val_loss: 5.6785e-04012512069195509,0.0006511760293506086,0.000644510961137712,0.0006625468959100544,0.0006600322085432708,0.0006487942882813513,0.0006888459320180118,0.0006899816798977554,0.0006827687029726803,0.0006918734288774431,0.0006778162787668407,0.0006821510614827275,0.0006924820481799543,0.0006844804738648236,0.0006787442252971232,0.0006843982846476138,0.0006802998250350356,0.0006702177925035357,0.0006822847644798458,0.0006747607258148491, - ETA: 2s - loss: 6.7476e-040.0006822432624176145,0.0006970237009227276,0.0006865065079182386,0.000689769396558404,0.0006925436900928617,0.000689720909576863,0.0006853215745650232,0.000694284331984818,0.000695583934430033,0.0006942645413801074,0.0007035592570900917,0.000705568352714181,0.000703674100805074,0.0007133032195270061,0.0007178695523180068,0.0007176271756179631,0.0007268984336405993,0.0007353705004788935,0.0007431320264004171,0.0007418384775519371,0.0007423788774758577,0.000750240869820118,0.000753065396565944,0.0007624116260558367,0.0007681241841055453,0.0007689715130254626,0.0007659884286113083,0.0007712810765951872,0.000770147773437202,0.0007677373941987753,0.0007716830587014556,0.0007666416349820793,0.0007650412153452635,0.0007632478373125196,0.0007592784240841866,0.0007598116062581539,0.0007620180258527398,0.0007600627141073346,0.0007570419693365693,0.0007609287276864052,0.0007599323871545494,0.000756232300773263,0.0007568346918560565,0.000750491744838655,0.0007515571778640151,0.0007532501476816833,\n",
      "Finished training on 203 after 97.2868001461029 seconds\n",
      "Finished job on after 97.2868001461029 seconds\n"
     ]
    }
   ],
   "source": [
    "file_ids = pd.unique(df_faulty.iloc[:,1])\n",
    "start = time.time()\n",
    "for file_id in file_ids:\n",
    "    recording_trimmed = create_trimmed_recording(df_faulty,file_id)\n",
    "    print(\"Staring training on %s\" % (file_id))\n",
    "    train(recording_trimmed)\n",
    "    print(\"Finished training on %s after %s seconds\" % (file_id,time.time()-start))\n",
    "\n",
    "print(\"Finished job on after %s seconds\" % (time.time()-start))\n",
    "faulty_losses = lr.losses"
   ]
  },
  {
   "cell_type": "code",
   "execution_count": 56,
   "metadata": {},
   "outputs": [
    {
     "data": {
      "text/plain": [
       "[<matplotlib.lines.Line2D at 0x22eb4a29be0>]"
      ]
     },
     "execution_count": 56,
     "metadata": {},
     "output_type": "execute_result"
    },
    {
     "data": {
      "image/png": "[encoded data removed]",
      "text/plain": [
       "<Figure size 1120x480 with 1 Axes>"
      ]
     },
     "metadata": {},
     "output_type": "display_data"
    }
   ],
   "source": [
    "fig, ax = plt.subplots(num=None, figsize=(14, 6), dpi=80, facecolor='w', edgecolor='k')\n",
    "size = len(healthy_losses+faulty_losses)\n",
    "plt.ylim(0,0.008)\n",
    "ax.plot(range(0,size), healthy_losses+faulty_losses, '-', color='blue', animated = True, linewidth=1)"
   ]
  },
  {
   "cell_type": "code",
   "execution_count": null,
   "metadata": {},
   "outputs": [],
   "source": []
  },
  {
   "cell_type": "code",
   "execution_count": null,
   "metadata": {},
   "outputs": [],
   "source": []
  },
  {
   "cell_type": "code",
   "execution_count": null,
   "metadata": {},
   "outputs": [],
   "source": []
  }
 ],
 "metadata": {
  "kernelspec": {
   "display_name": "Python 3 (ipykernel)",
   "language": "python",
   "name": "python3"
  },
  "language_info": {
   "codemirror_mode": {
    "name": "ipython",
    "version": 3
   },
   "file_extension": ".py",
   "mimetype": "text/x-python",
   "name": "python",
   "nbconvert_exporter": "python",
   "pygments_lexer": "ipython3",
   "version": "3.9.8"
  }
 },
 "nbformat": 4,
 "nbformat_minor": 4
}
