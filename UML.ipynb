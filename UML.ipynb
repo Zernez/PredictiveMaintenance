{
 "cells": [
  {
   "cell_type": "code",
   "execution_count": 2,
   "metadata": {},
   "outputs": [],
   "source": [
    "from graphviz import Digraph"
   ]
  },
  {
   "cell_type": "code",
   "execution_count": 5,
   "metadata": {},
   "outputs": [
    {
     "data": {
      "text/plain": [
       "'UML Decision Tree.png'"
      ]
     },
     "execution_count": 5,
     "metadata": {},
     "output_type": "execute_result"
    }
   ],
   "source": [
    "# Create the decision tree\n",
    "dot = Digraph(comment='UML Decision Tree')\n",
    "\n",
    "# Define the nodes\n",
    "dot.node('A', 'Raw data')\n",
    "dot.node('B', 'Hilbert transform')\n",
    "dot.node('C', 'FFT transform')\n",
    "# dot.node('D', 'Machine learning')\n",
    "# dot.node('E', 'Autoencoders')\n",
    "dot.node('G', 'Probability Distribution Function')\n",
    "dot.node('H', 'Kullback-Leibler divergence test')\n",
    "dot.node('I', 'Standard Deviation test')\n",
    "dot.node('L', 'T-statistic test')\n",
    "#dot.node('I', 'Definition of event in time')\n",
    "dot.node('M', 'Definition of failure in time')\n",
    "\n",
    "# Define the edges\n",
    "dot.edge('A', 'B')\n",
    "dot.edge('B', 'C')\n",
    "#dot.edge('C', 'D', label= 'Unsupervised')\n",
    "#dot.edge('D', 'E')\n",
    "#dot.edge('E', 'I')\n",
    "dot.edge('C', 'G', label= 'Supervised/Statistical approach')\n",
    "\n",
    "dot.edge('G', 'H')\n",
    "dot.edge('G', 'I')\n",
    "dot.edge('G', 'L')\n",
    "\n",
    "dot.edge('H', 'M')\n",
    "dot.edge('I', 'M')\n",
    "dot.edge('L', 'M')\n",
    "\n",
    "# Render the decision tree\n",
    "#dot.render('UML Decision Tree', view=True)\n",
    "dot.render('UML Decision Tree',format='png', view=False)\n"
   ]
  }
 ],
 "metadata": {
  "kernelspec": {
   "display_name": "pred_man",
   "language": "python",
   "name": "python3"
  },
  "language_info": {
   "codemirror_mode": {
    "name": "ipython",
    "version": 3
   },
   "file_extension": ".py",
   "mimetype": "text/x-python",
   "name": "python",
   "nbconvert_exporter": "python",
   "pygments_lexer": "ipython3",
   "version": "3.10.9"
  },
  "orig_nbformat": 4
 },
 "nbformat": 4,
 "nbformat_minor": 2
}
