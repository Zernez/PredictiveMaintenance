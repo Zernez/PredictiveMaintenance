{
 "cells": [
  {
   "cell_type": "code",
   "execution_count": 1,
   "metadata": {},
   "outputs": [],
   "source": [
    "import pandas as pd\n",
    "import numpy as np\n",
    "from pathlib import Path\n",
    "import numpy as np\n",
    "import scipy.stats\n",
    "import config as cfg\n",
    "import os\n",
    "\n",
    "N_BOOT = 3\n",
    "N_REPEATS = 1\n",
    "NEW_DATASET = False\n",
    "DATASET = \"xjtu\"\n",
    "TEST_SIZE= 0.3\n",
    "TYPE= \"bootstrap\" # not_correlated\n",
    "LINE_PLOT= 3\n",
    "FEATURE_TO_SPLIT= \"rms\"\n",
    "SPLIT_THRESHOLD= []\n",
    "SPLITTED = True"
   ]
  },
  {
   "cell_type": "code",
   "execution_count": 2,
   "metadata": {},
   "outputs": [],
   "source": [
    "# Load results into cv results\n",
    "cv_results = pd.DataFrame()\n",
    "dataset_names = [\"xjtu\"]\n",
    "type_names = [\"bootstrap\"]\n",
    "model_names = [\"CoxPH\", \"RSF\", \"CoxBoost\", \"DeepSurv\", \"DSM\", \"WeibullAFT\"]\n",
    "\n",
    "for dataset_name in dataset_names:\n",
    "    for type_name in type_names:\n",
    "        for model_name in model_names:\n",
    "            logs_dir = os.path.join(os.getcwd(), f\"../data/logs/{dataset_name}/{type_name}\")\n",
    "            model_results = pd.read_csv(os.path.join(logs_dir, f'{model_name}_results.csv'))\n",
    "            model_results[\"DatasetName\"] = dataset_name\n",
    "            model_results[\"TypeName\"] = type_name\n",
    "            cv_results = pd.concat([cv_results, model_results], axis=0)\n",
    "            cv_results = cv_results.dropna().reset_index(drop=True)"
   ]
  },
  {
   "cell_type": "code",
   "execution_count": 3,
   "metadata": {},
   "outputs": [
    {
     "name": "stdout",
     "output_type": "stream",
     "text": [
      "CoxPH & 0.56 ($\\pm$ 0.07) & 0.17 ($\\pm$ 0.04) & 0.56 ($\\pm$ 0.07) & 0.17 ($\\pm$ 0.04) \\\\\n",
      "RSF & 0.81 ($\\pm$ 0.02) & 0.06 ($\\pm$ 0.03) & 0.82 ($\\pm$ 0.02) & 0.06 ($\\pm$ 0.03) \\\\\n",
      "CoxBoost & 0.79 ($\\pm$ 0.13) & 0.08 ($\\pm$ 0.05) & 0.79 ($\\pm$ 0.13) & 0.08 ($\\pm$ 0.04) \\\\\n",
      "DeepSurv & 0.47 ($\\pm$ 0.14) & 0.16 ($\\pm$ 0.03) & 0.55 ($\\pm$ 0.08) & 0.16 ($\\pm$ 0.03) \\\\\n",
      "DSM & 0.59 ($\\pm$ 0.03) & 0.19 ($\\pm$ 0.04) & 0.67 ($\\pm$ 0.07) & 0.19 ($\\pm$ 0.02) \\\\\n",
      "WeibullAFT & 0.57 ($\\pm$ 0.03) & 0.17 ($\\pm$ 0.02) & 0.57 ($\\pm$ 0.03) & 0.17 ($\\pm$ 0.02) \\\\\n",
      "\n"
     ]
    }
   ],
   "source": [
    "# Print results\n",
    "for dataset_name in dataset_names:\n",
    "    for type_name in type_names:\n",
    "        for model_name in model_names:\n",
    "            text = \"\"\n",
    "            results = cv_results.loc[(cv_results['DatasetName'] == dataset_name)\n",
    "                                    & (cv_results['TypeName'] == type_name)\n",
    "                                    & (cv_results['ModelName'] == model_name)]\n",
    "            text += f\"{model_name}\"\n",
    "            for ft_selector in [\"NoneSelector\", \"PHSelector\"]:\n",
    "                ci_mean = results.loc[results['FtSelectorName'] == ft_selector][\"CIndex\"].mean().round(2)\n",
    "                ci_std = results.loc[results['FtSelectorName'] == ft_selector][\"CIndex\"].std().round(2)\n",
    "                ibs_mean = results.loc[results['FtSelectorName'] == ft_selector][\"BrierScore\"].mean().round(2)\n",
    "                ibs_std = results.loc[results['FtSelectorName'] == ft_selector][\"BrierScore\"].std().round(2)\n",
    "                text += f\" & {ci_mean} ($\\pm$ {ci_std}) & {ibs_mean} ($\\pm$ {ibs_std})\"\n",
    "            text += \" \\\\\\\\\"\n",
    "            print(text)\n",
    "        print()"
   ]
  },
  {
   "cell_type": "code",
   "execution_count": 8,
   "metadata": {},
   "outputs": [
    {
     "name": "stdout",
     "output_type": "stream",
     "text": [
      "(0.5595157603271194, 0.49398460048983794, 0.6250469201644008)\n",
      "(0.16741996656773325, 0.13432129160144501, 0.2005186415340215)\n"
     ]
    }
   ],
   "source": [
    "import numpy as np\n",
    "import scipy.stats\n",
    "\n",
    "def mean_confidence_interval(data, confidence=0.95):\n",
    "    a = 1.0 * np.array(data)\n",
    "    n = len(a)\n",
    "    m, se = np.mean(a), scipy.stats.sem(a)\n",
    "    h = se * scipy.stats.t.ppf((1 + confidence) / 2., n-1)\n",
    "    return m, m-h, m+h\n",
    "\n",
    "ci = cv_results.loc[(cv_results['ModelName'] == 'CoxPH')]['CIndex']\n",
    "ibs = cv_results.loc[(cv_results['ModelName'] == 'CoxPH')]['BrierScore']\n",
    "\n",
    "print(mean_confidence_interval(ci))\n",
    "print(mean_confidence_interval(ibs))"
   ]
  }
 ],
 "metadata": {
  "kernelspec": {
   "display_name": "py39-pm",
   "language": "python",
   "name": "python3"
  },
  "language_info": {
   "codemirror_mode": {
    "name": "ipython",
    "version": 3
   },
   "file_extension": ".py",
   "mimetype": "text/x-python",
   "name": "python",
   "nbconvert_exporter": "python",
   "pygments_lexer": "ipython3",
   "version": "3.9.17"
  },
  "orig_nbformat": 4
 },
 "nbformat": 4,
 "nbformat_minor": 2
}
